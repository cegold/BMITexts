{
 "cells": [
  {
   "cell_type": "code",
   "execution_count": 1,
   "metadata": {},
   "outputs": [
    {
     "name": "stdout",
     "output_type": "stream",
     "text": [
      "Requirement already satisfied: requests in c:\\users\\carri\\anaconda3\\envs\\bmi.biobert_env\\lib\\site-packages (2.31.0)\n",
      "Requirement already satisfied: charset-normalizer<4,>=2 in c:\\users\\carri\\anaconda3\\envs\\bmi.biobert_env\\lib\\site-packages (from requests) (3.3.2)\n",
      "Requirement already satisfied: idna<4,>=2.5 in c:\\users\\carri\\anaconda3\\envs\\bmi.biobert_env\\lib\\site-packages (from requests) (3.4)\n",
      "Requirement already satisfied: urllib3<3,>=1.21.1 in c:\\users\\carri\\anaconda3\\envs\\bmi.biobert_env\\lib\\site-packages (from requests) (2.0.7)\n",
      "Requirement already satisfied: certifi>=2017.4.17 in c:\\users\\carri\\anaconda3\\envs\\bmi.biobert_env\\lib\\site-packages (from requests) (2023.7.22)\n",
      "Note: you may need to restart the kernel to use updated packages.\n"
     ]
    }
   ],
   "source": [
    "### Module 11 Carrie Gold\n",
    "%pip install requests"
   ]
  },
  {
   "cell_type": "code",
   "execution_count": 2,
   "metadata": {},
   "outputs": [],
   "source": [
    "#pip install transformers==4.39.1"
   ]
  },
  {
   "cell_type": "code",
   "execution_count": 3,
   "metadata": {},
   "outputs": [],
   "source": [
    "#pip show transformers "
   ]
  },
  {
   "cell_type": "code",
   "execution_count": 4,
   "metadata": {},
   "outputs": [
    {
     "name": "stdout",
     "output_type": "stream",
     "text": [
      "File downloaded successfully: training_v2.zip\n"
     ]
    }
   ],
   "source": [
    "import requests\n",
    "from pathlib import Path\n",
    "\n",
    "def download_file(url, save_path):\n",
    "    \"\"\"Download a file from a URL and save it to the specified path.\"\"\"\n",
    "    response = requests.get(url)\n",
    "    response.raise_for_status()  # Check if the download was successful\n",
    "\n",
    "    with open(save_path, 'wb') as f:\n",
    "        f.write(response.content)\n",
    "    print(f\"File downloaded successfully: {save_path}\")\n",
    "\n",
    "# URL of the dataset\n",
    "url_train = \"https://github.com/UUDeCART/decart_rule_based_nlp/raw/master/data/training_v2.zip\"\n",
    "# Path where you want to save the downloaded file\n",
    "save_path_train = Path(\"training_v2.zip\")\n",
    "\n",
    "download_file(url_train, save_path_train)"
   ]
  },
  {
   "cell_type": "code",
   "execution_count": 5,
   "metadata": {},
   "outputs": [
    {
     "name": "stdout",
     "output_type": "stream",
     "text": [
      "File downloaded successfully: test_v2.zip\n"
     ]
    }
   ],
   "source": [
    "url_test = \"https://github.com/UUDeCART/decart_rule_based_nlp/raw/master/data/test_v2.zip\"\n",
    "save_path_test = Path(\"test_v2.zip\")\n",
    "\n",
    "download_file(url_test, save_path_test)"
   ]
  },
  {
   "cell_type": "code",
   "execution_count": 6,
   "metadata": {},
   "outputs": [
    {
     "name": "stdout",
     "output_type": "stream",
     "text": [
      "File unzipped successfully to: test_v2\n"
     ]
    }
   ],
   "source": [
    "import zipfile\n",
    "\n",
    "zip_path = save_path_test\n",
    "extract_path = save_path_test.parent / \"test_v2\"\n",
    "\n",
    "with zipfile.ZipFile(zip_path, 'r') as zip_ref:\n",
    "    zip_ref.extractall(extract_path)\n",
    "\n",
    "print(f\"File unzipped successfully to: {extract_path}\")\n"
   ]
  },
  {
   "cell_type": "code",
   "execution_count": 7,
   "metadata": {},
   "outputs": [
    {
     "name": "stdout",
     "output_type": "stream",
     "text": [
      "File unzipped successfully to: training_v2\n"
     ]
    }
   ],
   "source": [
    "import zipfile\n",
    "\n",
    "zip_path = \"training_v2.zip\"\n",
    "extract_path = \"training_v2\"\n",
    "\n",
    "with zipfile.ZipFile(zip_path, 'r') as zip_ref:\n",
    "    zip_ref.extractall(extract_path)\n",
    "\n",
    "print(f\"File unzipped successfully to: {extract_path}\")"
   ]
  },
  {
   "cell_type": "code",
   "execution_count": 8,
   "metadata": {},
   "outputs": [
    {
     "name": "stdout",
     "output_type": "stream",
     "text": [
      "Requirement already satisfied: quicksectx in c:\\users\\carri\\anaconda3\\envs\\bmi.biobert_env\\lib\\site-packages (0.3.9)\n",
      "Requirement already satisfied: Cython<=3.0.8,>=0.25 in c:\\users\\carri\\anaconda3\\envs\\bmi.biobert_env\\lib\\site-packages (from quicksectx) (3.0.8)\n",
      "Note: you may need to restart the kernel to use updated packages.\n"
     ]
    }
   ],
   "source": [
    "pip install quicksectx"
   ]
  },
  {
   "cell_type": "code",
   "execution_count": 9,
   "metadata": {},
   "outputs": [
    {
     "name": "stdout",
     "output_type": "stream",
     "text": [
      "Requirement already satisfied: spacy in c:\\users\\carri\\anaconda3\\envs\\bmi.biobert_env\\lib\\site-packages (3.7.4)\n",
      "Requirement already satisfied: spacy-legacy<3.1.0,>=3.0.11 in c:\\users\\carri\\anaconda3\\envs\\bmi.biobert_env\\lib\\site-packages (from spacy) (3.0.12)\n",
      "Requirement already satisfied: spacy-loggers<2.0.0,>=1.0.0 in c:\\users\\carri\\anaconda3\\envs\\bmi.biobert_env\\lib\\site-packages (from spacy) (1.0.5)\n",
      "Requirement already satisfied: murmurhash<1.1.0,>=0.28.0 in c:\\users\\carri\\anaconda3\\envs\\bmi.biobert_env\\lib\\site-packages (from spacy) (1.0.10)\n",
      "Requirement already satisfied: cymem<2.1.0,>=2.0.2 in c:\\users\\carri\\anaconda3\\envs\\bmi.biobert_env\\lib\\site-packages (from spacy) (2.0.8)\n",
      "Requirement already satisfied: preshed<3.1.0,>=3.0.2 in c:\\users\\carri\\anaconda3\\envs\\bmi.biobert_env\\lib\\site-packages (from spacy) (3.0.9)\n",
      "Requirement already satisfied: thinc<8.3.0,>=8.2.2 in c:\\users\\carri\\anaconda3\\envs\\bmi.biobert_env\\lib\\site-packages (from spacy) (8.2.3)\n",
      "Requirement already satisfied: wasabi<1.2.0,>=0.9.1 in c:\\users\\carri\\anaconda3\\envs\\bmi.biobert_env\\lib\\site-packages (from spacy) (1.1.2)\n",
      "Requirement already satisfied: srsly<3.0.0,>=2.4.3 in c:\\users\\carri\\anaconda3\\envs\\bmi.biobert_env\\lib\\site-packages (from spacy) (2.4.8)\n",
      "Requirement already satisfied: catalogue<2.1.0,>=2.0.6 in c:\\users\\carri\\anaconda3\\envs\\bmi.biobert_env\\lib\\site-packages (from spacy) (2.0.10)\n",
      "Requirement already satisfied: weasel<0.4.0,>=0.1.0 in c:\\users\\carri\\anaconda3\\envs\\bmi.biobert_env\\lib\\site-packages (from spacy) (0.3.4)\n",
      "Requirement already satisfied: typer<0.10.0,>=0.3.0 in c:\\users\\carri\\anaconda3\\envs\\bmi.biobert_env\\lib\\site-packages (from spacy) (0.9.4)\n",
      "Requirement already satisfied: smart-open<7.0.0,>=5.2.1 in c:\\users\\carri\\anaconda3\\envs\\bmi.biobert_env\\lib\\site-packages (from spacy) (6.4.0)\n",
      "Requirement already satisfied: tqdm<5.0.0,>=4.38.0 in c:\\users\\carri\\anaconda3\\envs\\bmi.biobert_env\\lib\\site-packages (from spacy) (4.66.1)\n",
      "Requirement already satisfied: requests<3.0.0,>=2.13.0 in c:\\users\\carri\\anaconda3\\envs\\bmi.biobert_env\\lib\\site-packages (from spacy) (2.31.0)\n",
      "Requirement already satisfied: pydantic!=1.8,!=1.8.1,<3.0.0,>=1.7.4 in c:\\users\\carri\\anaconda3\\envs\\bmi.biobert_env\\lib\\site-packages (from spacy) (2.6.4)\n",
      "Requirement already satisfied: jinja2 in c:\\users\\carri\\anaconda3\\envs\\bmi.biobert_env\\lib\\site-packages (from spacy) (3.1.2)\n",
      "Requirement already satisfied: setuptools in c:\\users\\carri\\anaconda3\\envs\\bmi.biobert_env\\lib\\site-packages (from spacy) (68.0.0)\n",
      "Requirement already satisfied: packaging>=20.0 in c:\\users\\carri\\anaconda3\\envs\\bmi.biobert_env\\lib\\site-packages (from spacy) (23.2)\n",
      "Requirement already satisfied: langcodes<4.0.0,>=3.2.0 in c:\\users\\carri\\anaconda3\\envs\\bmi.biobert_env\\lib\\site-packages (from spacy) (3.3.0)\n",
      "Requirement already satisfied: numpy>=1.19.0 in c:\\users\\carri\\anaconda3\\envs\\bmi.biobert_env\\lib\\site-packages (from spacy) (1.26.0)\n",
      "Requirement already satisfied: annotated-types>=0.4.0 in c:\\users\\carri\\anaconda3\\envs\\bmi.biobert_env\\lib\\site-packages (from pydantic!=1.8,!=1.8.1,<3.0.0,>=1.7.4->spacy) (0.6.0)\n",
      "Requirement already satisfied: pydantic-core==2.16.3 in c:\\users\\carri\\anaconda3\\envs\\bmi.biobert_env\\lib\\site-packages (from pydantic!=1.8,!=1.8.1,<3.0.0,>=1.7.4->spacy) (2.16.3)\n",
      "Requirement already satisfied: typing-extensions>=4.6.1 in c:\\users\\carri\\anaconda3\\envs\\bmi.biobert_env\\lib\\site-packages (from pydantic!=1.8,!=1.8.1,<3.0.0,>=1.7.4->spacy) (4.7.1)\n",
      "Requirement already satisfied: charset-normalizer<4,>=2 in c:\\users\\carri\\anaconda3\\envs\\bmi.biobert_env\\lib\\site-packages (from requests<3.0.0,>=2.13.0->spacy) (3.3.2)\n",
      "Requirement already satisfied: idna<4,>=2.5 in c:\\users\\carri\\anaconda3\\envs\\bmi.biobert_env\\lib\\site-packages (from requests<3.0.0,>=2.13.0->spacy) (3.4)\n",
      "Requirement already satisfied: urllib3<3,>=1.21.1 in c:\\users\\carri\\anaconda3\\envs\\bmi.biobert_env\\lib\\site-packages (from requests<3.0.0,>=2.13.0->spacy) (2.0.7)\n",
      "Requirement already satisfied: certifi>=2017.4.17 in c:\\users\\carri\\anaconda3\\envs\\bmi.biobert_env\\lib\\site-packages (from requests<3.0.0,>=2.13.0->spacy) (2023.7.22)\n",
      "Requirement already satisfied: blis<0.8.0,>=0.7.8 in c:\\users\\carri\\anaconda3\\envs\\bmi.biobert_env\\lib\\site-packages (from thinc<8.3.0,>=8.2.2->spacy) (0.7.11)\n",
      "Requirement already satisfied: confection<1.0.0,>=0.0.1 in c:\\users\\carri\\anaconda3\\envs\\bmi.biobert_env\\lib\\site-packages (from thinc<8.3.0,>=8.2.2->spacy) (0.1.4)\n",
      "Requirement already satisfied: colorama in c:\\users\\carri\\anaconda3\\envs\\bmi.biobert_env\\lib\\site-packages (from tqdm<5.0.0,>=4.38.0->spacy) (0.4.6)\n",
      "Requirement already satisfied: click<9.0.0,>=7.1.1 in c:\\users\\carri\\anaconda3\\envs\\bmi.biobert_env\\lib\\site-packages (from typer<0.10.0,>=0.3.0->spacy) (8.1.7)\n",
      "Requirement already satisfied: cloudpathlib<0.17.0,>=0.7.0 in c:\\users\\carri\\anaconda3\\envs\\bmi.biobert_env\\lib\\site-packages (from weasel<0.4.0,>=0.1.0->spacy) (0.16.0)\n",
      "Requirement already satisfied: MarkupSafe>=2.0 in c:\\users\\carri\\anaconda3\\envs\\bmi.biobert_env\\lib\\site-packages (from jinja2->spacy) (2.1.1)\n",
      "Note: you may need to restart the kernel to use updated packages.\n"
     ]
    }
   ],
   "source": [
    "pip install spacy"
   ]
  },
  {
   "cell_type": "code",
   "execution_count": 10,
   "metadata": {},
   "outputs": [
    {
     "name": "stdout",
     "output_type": "stream",
     "text": [
      "Collecting git+https://github.com/medspacy/medspacy_io\n",
      "  Cloning https://github.com/medspacy/medspacy_io to c:\\users\\carri\\appdata\\local\\temp\\pip-req-build-rxb32wzh\n",
      "  Resolved https://github.com/medspacy/medspacy_io to commit 52682d9b208cafb65733ac2aef9d6cd3f139df63\n",
      "  Preparing metadata (setup.py): started\n",
      "  Preparing metadata (setup.py): finished with status 'done'\n",
      "Requirement already satisfied: lxml>=4.4.0 in c:\\users\\carri\\anaconda3\\envs\\bmi.biobert_env\\lib\\site-packages (from medspacy-io==0.1.0.dev34) (5.1.0)\n",
      "Requirement already satisfied: spacy>=2.2.2 in c:\\users\\carri\\anaconda3\\envs\\bmi.biobert_env\\lib\\site-packages (from medspacy-io==0.1.0.dev34) (3.7.4)\n",
      "Requirement already satisfied: spacy-legacy<3.1.0,>=3.0.11 in c:\\users\\carri\\anaconda3\\envs\\bmi.biobert_env\\lib\\site-packages (from spacy>=2.2.2->medspacy-io==0.1.0.dev34) (3.0.12)\n",
      "Requirement already satisfied: spacy-loggers<2.0.0,>=1.0.0 in c:\\users\\carri\\anaconda3\\envs\\bmi.biobert_env\\lib\\site-packages (from spacy>=2.2.2->medspacy-io==0.1.0.dev34) (1.0.5)\n",
      "Requirement already satisfied: murmurhash<1.1.0,>=0.28.0 in c:\\users\\carri\\anaconda3\\envs\\bmi.biobert_env\\lib\\site-packages (from spacy>=2.2.2->medspacy-io==0.1.0.dev34) (1.0.10)\n",
      "Requirement already satisfied: cymem<2.1.0,>=2.0.2 in c:\\users\\carri\\anaconda3\\envs\\bmi.biobert_env\\lib\\site-packages (from spacy>=2.2.2->medspacy-io==0.1.0.dev34) (2.0.8)\n",
      "Requirement already satisfied: preshed<3.1.0,>=3.0.2 in c:\\users\\carri\\anaconda3\\envs\\bmi.biobert_env\\lib\\site-packages (from spacy>=2.2.2->medspacy-io==0.1.0.dev34) (3.0.9)\n",
      "Requirement already satisfied: thinc<8.3.0,>=8.2.2 in c:\\users\\carri\\anaconda3\\envs\\bmi.biobert_env\\lib\\site-packages (from spacy>=2.2.2->medspacy-io==0.1.0.dev34) (8.2.3)\n",
      "Requirement already satisfied: wasabi<1.2.0,>=0.9.1 in c:\\users\\carri\\anaconda3\\envs\\bmi.biobert_env\\lib\\site-packages (from spacy>=2.2.2->medspacy-io==0.1.0.dev34) (1.1.2)\n",
      "Requirement already satisfied: srsly<3.0.0,>=2.4.3 in c:\\users\\carri\\anaconda3\\envs\\bmi.biobert_env\\lib\\site-packages (from spacy>=2.2.2->medspacy-io==0.1.0.dev34) (2.4.8)\n",
      "Requirement already satisfied: catalogue<2.1.0,>=2.0.6 in c:\\users\\carri\\anaconda3\\envs\\bmi.biobert_env\\lib\\site-packages (from spacy>=2.2.2->medspacy-io==0.1.0.dev34) (2.0.10)\n",
      "Requirement already satisfied: weasel<0.4.0,>=0.1.0 in c:\\users\\carri\\anaconda3\\envs\\bmi.biobert_env\\lib\\site-packages (from spacy>=2.2.2->medspacy-io==0.1.0.dev34) (0.3.4)\n",
      "Requirement already satisfied: typer<0.10.0,>=0.3.0 in c:\\users\\carri\\anaconda3\\envs\\bmi.biobert_env\\lib\\site-packages (from spacy>=2.2.2->medspacy-io==0.1.0.dev34) (0.9.4)\n",
      "Requirement already satisfied: smart-open<7.0.0,>=5.2.1 in c:\\users\\carri\\anaconda3\\envs\\bmi.biobert_env\\lib\\site-packages (from spacy>=2.2.2->medspacy-io==0.1.0.dev34) (6.4.0)\n",
      "Requirement already satisfied: tqdm<5.0.0,>=4.38.0 in c:\\users\\carri\\anaconda3\\envs\\bmi.biobert_env\\lib\\site-packages (from spacy>=2.2.2->medspacy-io==0.1.0.dev34) (4.66.1)\n",
      "Requirement already satisfied: requests<3.0.0,>=2.13.0 in c:\\users\\carri\\anaconda3\\envs\\bmi.biobert_env\\lib\\site-packages (from spacy>=2.2.2->medspacy-io==0.1.0.dev34) (2.31.0)\n",
      "Requirement already satisfied: pydantic!=1.8,!=1.8.1,<3.0.0,>=1.7.4 in c:\\users\\carri\\anaconda3\\envs\\bmi.biobert_env\\lib\\site-packages (from spacy>=2.2.2->medspacy-io==0.1.0.dev34) (2.6.4)\n",
      "Requirement already satisfied: jinja2 in c:\\users\\carri\\anaconda3\\envs\\bmi.biobert_env\\lib\\site-packages (from spacy>=2.2.2->medspacy-io==0.1.0.dev34) (3.1.2)\n",
      "Requirement already satisfied: setuptools in c:\\users\\carri\\anaconda3\\envs\\bmi.biobert_env\\lib\\site-packages (from spacy>=2.2.2->medspacy-io==0.1.0.dev34) (68.0.0)\n",
      "Requirement already satisfied: packaging>=20.0 in c:\\users\\carri\\anaconda3\\envs\\bmi.biobert_env\\lib\\site-packages (from spacy>=2.2.2->medspacy-io==0.1.0.dev34) (23.2)\n",
      "Requirement already satisfied: langcodes<4.0.0,>=3.2.0 in c:\\users\\carri\\anaconda3\\envs\\bmi.biobert_env\\lib\\site-packages (from spacy>=2.2.2->medspacy-io==0.1.0.dev34) (3.3.0)\n",
      "Requirement already satisfied: numpy>=1.19.0 in c:\\users\\carri\\anaconda3\\envs\\bmi.biobert_env\\lib\\site-packages (from spacy>=2.2.2->medspacy-io==0.1.0.dev34) (1.26.0)\n",
      "Requirement already satisfied: annotated-types>=0.4.0 in c:\\users\\carri\\anaconda3\\envs\\bmi.biobert_env\\lib\\site-packages (from pydantic!=1.8,!=1.8.1,<3.0.0,>=1.7.4->spacy>=2.2.2->medspacy-io==0.1.0.dev34) (0.6.0)\n",
      "Requirement already satisfied: pydantic-core==2.16.3 in c:\\users\\carri\\anaconda3\\envs\\bmi.biobert_env\\lib\\site-packages (from pydantic!=1.8,!=1.8.1,<3.0.0,>=1.7.4->spacy>=2.2.2->medspacy-io==0.1.0.dev34) (2.16.3)\n",
      "Requirement already satisfied: typing-extensions>=4.6.1 in c:\\users\\carri\\anaconda3\\envs\\bmi.biobert_env\\lib\\site-packages (from pydantic!=1.8,!=1.8.1,<3.0.0,>=1.7.4->spacy>=2.2.2->medspacy-io==0.1.0.dev34) (4.7.1)\n",
      "Requirement already satisfied: charset-normalizer<4,>=2 in c:\\users\\carri\\anaconda3\\envs\\bmi.biobert_env\\lib\\site-packages (from requests<3.0.0,>=2.13.0->spacy>=2.2.2->medspacy-io==0.1.0.dev34) (3.3.2)\n",
      "Requirement already satisfied: idna<4,>=2.5 in c:\\users\\carri\\anaconda3\\envs\\bmi.biobert_env\\lib\\site-packages (from requests<3.0.0,>=2.13.0->spacy>=2.2.2->medspacy-io==0.1.0.dev34) (3.4)\n",
      "Requirement already satisfied: urllib3<3,>=1.21.1 in c:\\users\\carri\\anaconda3\\envs\\bmi.biobert_env\\lib\\site-packages (from requests<3.0.0,>=2.13.0->spacy>=2.2.2->medspacy-io==0.1.0.dev34) (2.0.7)\n",
      "Requirement already satisfied: certifi>=2017.4.17 in c:\\users\\carri\\anaconda3\\envs\\bmi.biobert_env\\lib\\site-packages (from requests<3.0.0,>=2.13.0->spacy>=2.2.2->medspacy-io==0.1.0.dev34) (2023.7.22)\n",
      "Requirement already satisfied: blis<0.8.0,>=0.7.8 in c:\\users\\carri\\anaconda3\\envs\\bmi.biobert_env\\lib\\site-packages (from thinc<8.3.0,>=8.2.2->spacy>=2.2.2->medspacy-io==0.1.0.dev34) (0.7.11)\n",
      "Requirement already satisfied: confection<1.0.0,>=0.0.1 in c:\\users\\carri\\anaconda3\\envs\\bmi.biobert_env\\lib\\site-packages (from thinc<8.3.0,>=8.2.2->spacy>=2.2.2->medspacy-io==0.1.0.dev34) (0.1.4)\n",
      "Requirement already satisfied: colorama in c:\\users\\carri\\anaconda3\\envs\\bmi.biobert_env\\lib\\site-packages (from tqdm<5.0.0,>=4.38.0->spacy>=2.2.2->medspacy-io==0.1.0.dev34) (0.4.6)\n",
      "Requirement already satisfied: click<9.0.0,>=7.1.1 in c:\\users\\carri\\anaconda3\\envs\\bmi.biobert_env\\lib\\site-packages (from typer<0.10.0,>=0.3.0->spacy>=2.2.2->medspacy-io==0.1.0.dev34) (8.1.7)\n",
      "Requirement already satisfied: cloudpathlib<0.17.0,>=0.7.0 in c:\\users\\carri\\anaconda3\\envs\\bmi.biobert_env\\lib\\site-packages (from weasel<0.4.0,>=0.1.0->spacy>=2.2.2->medspacy-io==0.1.0.dev34) (0.16.0)\n",
      "Requirement already satisfied: MarkupSafe>=2.0 in c:\\users\\carri\\anaconda3\\envs\\bmi.biobert_env\\lib\\site-packages (from jinja2->spacy>=2.2.2->medspacy-io==0.1.0.dev34) (2.1.1)\n",
      "Note: you may need to restart the kernel to use updated packages.\n"
     ]
    },
    {
     "name": "stderr",
     "output_type": "stream",
     "text": [
      "  Running command git clone --filter=blob:none --quiet https://github.com/medspacy/medspacy_io 'C:\\Users\\carri\\AppData\\Local\\Temp\\pip-req-build-rxb32wzh'\n"
     ]
    }
   ],
   "source": [
    "pip install git+https://github.com/medspacy/medspacy_io"
   ]
  },
  {
   "cell_type": "code",
   "execution_count": 11,
   "metadata": {},
   "outputs": [],
   "source": [
    "from spacy.lang.en import English\n",
    "from medspacy_io.reader import BratDocReader\n",
    "from medspacy_io.reader import BratDirReader\n",
    "import spacy\n",
    "from pathlib import Path\n",
    "from medspacy_io.vectorizer import Vectorizer\n",
    "from sklearn.feature_extraction.text import CountVectorizer\n",
    "from sklearn.metrics import classification_report\n",
    "import pandas as pd\n",
    "pd.set_option('display.max_colwidth', None)"
   ]
  },
  {
   "cell_type": "code",
   "execution_count": 12,
   "metadata": {},
   "outputs": [
    {
     "data": {
      "text/plain": [
       "67"
      ]
     },
     "execution_count": 12,
     "metadata": {},
     "output_type": "execute_result"
    }
   ],
   "source": [
    "# The dataset files does not include schema configuration, let's create one\n",
    "concepts=['EVIDENCE_OF_PNEUMONIA', 'PNEUMONIA_DOC_NO', 'PNEUMONIA_DOC_YES']\n",
    "lines=['[entities]']+concepts\n",
    "Path('annotation.conf').write_text('\\n'.join(lines))\n"
   ]
  },
  {
   "cell_type": "code",
   "execution_count": 13,
   "metadata": {},
   "outputs": [
    {
     "name": "stdout",
     "output_type": "stream",
     "text": [
      "Collecting en-core-web-sm==3.7.1\n",
      "  Downloading https://github.com/explosion/spacy-models/releases/download/en_core_web_sm-3.7.1/en_core_web_sm-3.7.1-py3-none-any.whl (12.8 MB)\n",
      "     ---------------------------------------- 0.0/12.8 MB ? eta -:--:--\n",
      "     --------------------------------------- 0.0/12.8 MB 330.3 kB/s eta 0:00:39\n",
      "     ---------------------------------------- 0.1/12.8 MB 1.5 MB/s eta 0:00:09\n",
      "     - -------------------------------------- 0.5/12.8 MB 4.2 MB/s eta 0:00:03\n",
      "     ---- ----------------------------------- 1.4/12.8 MB 9.0 MB/s eta 0:00:02\n",
      "     ------- -------------------------------- 2.4/12.8 MB 12.8 MB/s eta 0:00:01\n",
      "     ---------- ----------------------------- 3.3/12.8 MB 13.9 MB/s eta 0:00:01\n",
      "     ------------- -------------------------- 4.3/12.8 MB 16.2 MB/s eta 0:00:01\n",
      "     ----------------- ---------------------- 5.5/12.8 MB 17.7 MB/s eta 0:00:01\n",
      "     -------------------- ------------------- 6.7/12.8 MB 19.5 MB/s eta 0:00:01\n",
      "     ------------------------- -------------- 8.0/12.8 MB 20.6 MB/s eta 0:00:01\n",
      "     ---------------------------- ----------- 9.2/12.8 MB 21.8 MB/s eta 0:00:01\n",
      "     ------------------------------- -------- 9.9/12.8 MB 21.2 MB/s eta 0:00:01\n",
      "     ---------------------------------- ---- 11.3/12.8 MB 27.3 MB/s eta 0:00:01\n",
      "     --------------------------------------  12.6/12.8 MB 27.3 MB/s eta 0:00:01\n",
      "     --------------------------------------- 12.8/12.8 MB 26.2 MB/s eta 0:00:00\n",
      "Requirement already satisfied: spacy<3.8.0,>=3.7.2 in c:\\users\\carri\\anaconda3\\envs\\bmi.biobert_env\\lib\\site-packages (from en-core-web-sm==3.7.1) (3.7.4)\n",
      "Requirement already satisfied: spacy-legacy<3.1.0,>=3.0.11 in c:\\users\\carri\\anaconda3\\envs\\bmi.biobert_env\\lib\\site-packages (from spacy<3.8.0,>=3.7.2->en-core-web-sm==3.7.1) (3.0.12)\n",
      "Requirement already satisfied: spacy-loggers<2.0.0,>=1.0.0 in c:\\users\\carri\\anaconda3\\envs\\bmi.biobert_env\\lib\\site-packages (from spacy<3.8.0,>=3.7.2->en-core-web-sm==3.7.1) (1.0.5)\n",
      "Requirement already satisfied: murmurhash<1.1.0,>=0.28.0 in c:\\users\\carri\\anaconda3\\envs\\bmi.biobert_env\\lib\\site-packages (from spacy<3.8.0,>=3.7.2->en-core-web-sm==3.7.1) (1.0.10)\n",
      "Requirement already satisfied: cymem<2.1.0,>=2.0.2 in c:\\users\\carri\\anaconda3\\envs\\bmi.biobert_env\\lib\\site-packages (from spacy<3.8.0,>=3.7.2->en-core-web-sm==3.7.1) (2.0.8)\n",
      "Requirement already satisfied: preshed<3.1.0,>=3.0.2 in c:\\users\\carri\\anaconda3\\envs\\bmi.biobert_env\\lib\\site-packages (from spacy<3.8.0,>=3.7.2->en-core-web-sm==3.7.1) (3.0.9)\n",
      "Requirement already satisfied: thinc<8.3.0,>=8.2.2 in c:\\users\\carri\\anaconda3\\envs\\bmi.biobert_env\\lib\\site-packages (from spacy<3.8.0,>=3.7.2->en-core-web-sm==3.7.1) (8.2.3)\n",
      "Requirement already satisfied: wasabi<1.2.0,>=0.9.1 in c:\\users\\carri\\anaconda3\\envs\\bmi.biobert_env\\lib\\site-packages (from spacy<3.8.0,>=3.7.2->en-core-web-sm==3.7.1) (1.1.2)\n",
      "Requirement already satisfied: srsly<3.0.0,>=2.4.3 in c:\\users\\carri\\anaconda3\\envs\\bmi.biobert_env\\lib\\site-packages (from spacy<3.8.0,>=3.7.2->en-core-web-sm==3.7.1) (2.4.8)\n",
      "Requirement already satisfied: catalogue<2.1.0,>=2.0.6 in c:\\users\\carri\\anaconda3\\envs\\bmi.biobert_env\\lib\\site-packages (from spacy<3.8.0,>=3.7.2->en-core-web-sm==3.7.1) (2.0.10)\n",
      "Requirement already satisfied: weasel<0.4.0,>=0.1.0 in c:\\users\\carri\\anaconda3\\envs\\bmi.biobert_env\\lib\\site-packages (from spacy<3.8.0,>=3.7.2->en-core-web-sm==3.7.1) (0.3.4)\n",
      "Requirement already satisfied: typer<0.10.0,>=0.3.0 in c:\\users\\carri\\anaconda3\\envs\\bmi.biobert_env\\lib\\site-packages (from spacy<3.8.0,>=3.7.2->en-core-web-sm==3.7.1) (0.9.4)\n",
      "Requirement already satisfied: smart-open<7.0.0,>=5.2.1 in c:\\users\\carri\\anaconda3\\envs\\bmi.biobert_env\\lib\\site-packages (from spacy<3.8.0,>=3.7.2->en-core-web-sm==3.7.1) (6.4.0)\n",
      "Requirement already satisfied: tqdm<5.0.0,>=4.38.0 in c:\\users\\carri\\anaconda3\\envs\\bmi.biobert_env\\lib\\site-packages (from spacy<3.8.0,>=3.7.2->en-core-web-sm==3.7.1) (4.66.1)\n",
      "Requirement already satisfied: requests<3.0.0,>=2.13.0 in c:\\users\\carri\\anaconda3\\envs\\bmi.biobert_env\\lib\\site-packages (from spacy<3.8.0,>=3.7.2->en-core-web-sm==3.7.1) (2.31.0)\n",
      "Requirement already satisfied: pydantic!=1.8,!=1.8.1,<3.0.0,>=1.7.4 in c:\\users\\carri\\anaconda3\\envs\\bmi.biobert_env\\lib\\site-packages (from spacy<3.8.0,>=3.7.2->en-core-web-sm==3.7.1) (2.6.4)\n",
      "Requirement already satisfied: jinja2 in c:\\users\\carri\\anaconda3\\envs\\bmi.biobert_env\\lib\\site-packages (from spacy<3.8.0,>=3.7.2->en-core-web-sm==3.7.1) (3.1.2)\n",
      "Requirement already satisfied: setuptools in c:\\users\\carri\\anaconda3\\envs\\bmi.biobert_env\\lib\\site-packages (from spacy<3.8.0,>=3.7.2->en-core-web-sm==3.7.1) (68.0.0)\n",
      "Requirement already satisfied: packaging>=20.0 in c:\\users\\carri\\anaconda3\\envs\\bmi.biobert_env\\lib\\site-packages (from spacy<3.8.0,>=3.7.2->en-core-web-sm==3.7.1) (23.2)\n",
      "Requirement already satisfied: langcodes<4.0.0,>=3.2.0 in c:\\users\\carri\\anaconda3\\envs\\bmi.biobert_env\\lib\\site-packages (from spacy<3.8.0,>=3.7.2->en-core-web-sm==3.7.1) (3.3.0)\n",
      "Requirement already satisfied: numpy>=1.19.0 in c:\\users\\carri\\anaconda3\\envs\\bmi.biobert_env\\lib\\site-packages (from spacy<3.8.0,>=3.7.2->en-core-web-sm==3.7.1) (1.26.0)\n",
      "Requirement already satisfied: annotated-types>=0.4.0 in c:\\users\\carri\\anaconda3\\envs\\bmi.biobert_env\\lib\\site-packages (from pydantic!=1.8,!=1.8.1,<3.0.0,>=1.7.4->spacy<3.8.0,>=3.7.2->en-core-web-sm==3.7.1) (0.6.0)\n",
      "Requirement already satisfied: pydantic-core==2.16.3 in c:\\users\\carri\\anaconda3\\envs\\bmi.biobert_env\\lib\\site-packages (from pydantic!=1.8,!=1.8.1,<3.0.0,>=1.7.4->spacy<3.8.0,>=3.7.2->en-core-web-sm==3.7.1) (2.16.3)\n",
      "Requirement already satisfied: typing-extensions>=4.6.1 in c:\\users\\carri\\anaconda3\\envs\\bmi.biobert_env\\lib\\site-packages (from pydantic!=1.8,!=1.8.1,<3.0.0,>=1.7.4->spacy<3.8.0,>=3.7.2->en-core-web-sm==3.7.1) (4.7.1)\n",
      "Requirement already satisfied: charset-normalizer<4,>=2 in c:\\users\\carri\\anaconda3\\envs\\bmi.biobert_env\\lib\\site-packages (from requests<3.0.0,>=2.13.0->spacy<3.8.0,>=3.7.2->en-core-web-sm==3.7.1) (3.3.2)\n",
      "Requirement already satisfied: idna<4,>=2.5 in c:\\users\\carri\\anaconda3\\envs\\bmi.biobert_env\\lib\\site-packages (from requests<3.0.0,>=2.13.0->spacy<3.8.0,>=3.7.2->en-core-web-sm==3.7.1) (3.4)\n",
      "Requirement already satisfied: urllib3<3,>=1.21.1 in c:\\users\\carri\\anaconda3\\envs\\bmi.biobert_env\\lib\\site-packages (from requests<3.0.0,>=2.13.0->spacy<3.8.0,>=3.7.2->en-core-web-sm==3.7.1) (2.0.7)\n",
      "Requirement already satisfied: certifi>=2017.4.17 in c:\\users\\carri\\anaconda3\\envs\\bmi.biobert_env\\lib\\site-packages (from requests<3.0.0,>=2.13.0->spacy<3.8.0,>=3.7.2->en-core-web-sm==3.7.1) (2023.7.22)\n",
      "Requirement already satisfied: blis<0.8.0,>=0.7.8 in c:\\users\\carri\\anaconda3\\envs\\bmi.biobert_env\\lib\\site-packages (from thinc<8.3.0,>=8.2.2->spacy<3.8.0,>=3.7.2->en-core-web-sm==3.7.1) (0.7.11)\n",
      "Requirement already satisfied: confection<1.0.0,>=0.0.1 in c:\\users\\carri\\anaconda3\\envs\\bmi.biobert_env\\lib\\site-packages (from thinc<8.3.0,>=8.2.2->spacy<3.8.0,>=3.7.2->en-core-web-sm==3.7.1) (0.1.4)\n",
      "Requirement already satisfied: colorama in c:\\users\\carri\\anaconda3\\envs\\bmi.biobert_env\\lib\\site-packages (from tqdm<5.0.0,>=4.38.0->spacy<3.8.0,>=3.7.2->en-core-web-sm==3.7.1) (0.4.6)\n",
      "Requirement already satisfied: click<9.0.0,>=7.1.1 in c:\\users\\carri\\anaconda3\\envs\\bmi.biobert_env\\lib\\site-packages (from typer<0.10.0,>=0.3.0->spacy<3.8.0,>=3.7.2->en-core-web-sm==3.7.1) (8.1.7)\n",
      "Requirement already satisfied: cloudpathlib<0.17.0,>=0.7.0 in c:\\users\\carri\\anaconda3\\envs\\bmi.biobert_env\\lib\\site-packages (from weasel<0.4.0,>=0.1.0->spacy<3.8.0,>=3.7.2->en-core-web-sm==3.7.1) (0.16.0)\n",
      "Requirement already satisfied: MarkupSafe>=2.0 in c:\\users\\carri\\anaconda3\\envs\\bmi.biobert_env\\lib\\site-packages (from jinja2->spacy<3.8.0,>=3.7.2->en-core-web-sm==3.7.1) (2.1.1)\n",
      "\u001b[38;5;2m✔ Download and installation successful\u001b[0m\n",
      "You can now load the package via spacy.load('en_core_web_sm')\n"
     ]
    }
   ],
   "source": [
    "!python -m spacy download en_core_web_sm\n"
   ]
  },
  {
   "cell_type": "code",
   "execution_count": 14,
   "metadata": {},
   "outputs": [
    {
     "name": "stdout",
     "output_type": "stream",
     "text": [
      "found annotation.conf file\n"
     ]
    }
   ],
   "source": [
    "# set up the Brat reader\n",
    "nlp=spacy.load(\"en_core_web_sm\", disable=['ner'])\n",
    "dir_reader = BratDirReader(nlp=nlp, support_overlap=True, recursive=True, schema_file='annotation.conf')"
   ]
  },
  {
   "cell_type": "code",
   "execution_count": 15,
   "metadata": {},
   "outputs": [],
   "source": [
    "# This function will read brat annotation files and convert the snippet annotation into sentence labelled dataframe\n",
    "def convert2df(data_folder):\n",
    "  # read brat annotation into spaCy doc object.\n",
    "  docs = dir_reader.read(txt_dir=data_folder)\n",
    "  # convert snippet label into sentence-level labels and generate pandas dataframe\n",
    "  df = Vectorizer.docs_to_sents_df(docs, track_doc_name=True, sent_window=2)\n",
    "  # remove document-level labels\n",
    "  df=df[~df['y'].str.contains('_DOC_')]\n",
    "  return df[['X','y']]"
   ]
  },
  {
   "cell_type": "code",
   "execution_count": 16,
   "metadata": {},
   "outputs": [],
   "source": [
    "train_df=convert2df('training_v2')\n",
    "test_df=convert2df('test_v2')"
   ]
  },
  {
   "cell_type": "code",
   "execution_count": 17,
   "metadata": {},
   "outputs": [
    {
     "name": "stdout",
     "output_type": "stream",
     "text": [
      "                                                                                                                                                                                  X  \\\n",
      "1  The pulmonary vasculature is normal and there is no pneumothorax\\n     on this supine radiograph.   A consolidation with air bronchograms in the left\\n     lower lobe is new.     \n",
      "2                                  A consolidation with air bronchograms in the left\\n     lower lobe is new.   No right-sided consolidations or effusions are noted.\\n     \\n        \n",
      "3                                                No right-sided consolidations or effusions are noted.\\n     \\n      IMPRESSION:  Left lower lobe process suggesting pneumonia.\\n\\n   \n",
      "\n",
      "                       y  \n",
      "1  EVIDENCE_OF_PNEUMONIA  \n",
      "2  EVIDENCE_OF_PNEUMONIA  \n",
      "3  EVIDENCE_OF_PNEUMONIA  \n"
     ]
    }
   ],
   "source": [
    "print(train_df[0:3])"
   ]
  },
  {
   "cell_type": "code",
   "execution_count": 18,
   "metadata": {},
   "outputs": [
    {
     "name": "stdout",
     "output_type": "stream",
     "text": [
      "                                                                                                                                                                                                                                                                                                                                                                                                                                                                                                                                                                                                                                                            X  \\\n",
      "1  [**2993-7-25**] 4:58 PM\\n     CHEST (PORTABLE AP)                                             Clip # [**Clip Number (Radiology) 6033**]\\n     Reason: assess for infiltrate                                       \\n     ______________________________________________________________________________\\n     UNDERLYING MEDICAL CONDITION:\\n      35 year old man with s/p cardiac arrest                                         \\n     REASON FOR THIS EXAMINATION:\\n      assess for infiltrate                                                           \\n     ______________________________________________________________________________\\n        \n",
      "2                                                                                             [**Clip Number (Radiology) 6033**]\\n     Reason: assess for infiltrate                                       \\n     ______________________________________________________________________________\\n     UNDERLYING MEDICAL CONDITION:\\n      35 year old man with s/p cardiac arrest                                         \\n     REASON FOR THIS EXAMINATION:\\n      assess for infiltrate                                                           \\n     ______________________________________________________________________________\\n      WET READ:   \n",
      "3                                                                                                                                                                                                                                                                                                                                                                                                                                                                                                                                                                                                             WET READ: [**First Name9 (NamePattern2) 6034**]   \n",
      "\n",
      "     y  \n",
      "1  NEG  \n",
      "2  NEG  \n",
      "3  NEG  \n"
     ]
    }
   ],
   "source": [
    "print(test_df[0:3])"
   ]
  },
  {
   "cell_type": "code",
   "execution_count": 19,
   "metadata": {},
   "outputs": [],
   "source": [
    "def to_attr_classify(df:pd.DataFrame):\n",
    "    keywords = ['opacity', 'infiltrate', 'pneumonia', 'effusion', 'consolidation']\n",
    "\n",
    "    # Function to find offsets of keywords in sentences\n",
    "    def find_offsets(sentence, keywords):\n",
    "        offsets = []\n",
    "        for keyword in keywords:\n",
    "            start = sentence.find(keyword)\n",
    "            if start != -1:\n",
    "                end = start + len(keyword)\n",
    "                offsets.append((keyword, start, end))\n",
    "        return offsets\n",
    "\n",
    "    # Apply the function and expand the list of offsets into a new dataframe\n",
    "    rows = []\n",
    "    for i, row in train_df.iterrows():\n",
    "        offsets = find_offsets(row['X'].lower(), keywords)\n",
    "        for keyword, start, end in offsets:\n",
    "            rows.append({'X': row['X'], 'Keyword': keyword, 'Start': start, 'End': end, 'y':row['y']})\n",
    "\n",
    "    # Creating a new dataframe from the rows with keywords found\n",
    "    filtered_df = pd.DataFrame(rows)\n",
    "    filtered_df['y']=filtered_df['y'].map(lambda x: 'NotAffirmed' if x == 'NEG' else 'Affirmed')\n",
    "    return filtered_df"
   ]
  },
  {
   "cell_type": "code",
   "execution_count": 20,
   "metadata": {},
   "outputs": [],
   "source": [
    "train_adf=to_attr_classify(train_df)"
   ]
  },
  {
   "cell_type": "code",
   "execution_count": 21,
   "metadata": {},
   "outputs": [],
   "source": [
    "### Function defined with train_df file, so changed test_df to point to the same data set \n",
    "def to_attr_classify(df:pd.DataFrame):\n",
    "    keywords = ['opacity', 'infiltrate', 'pneumonia', 'effusion', 'consolidation']\n",
    "\n",
    "    # Function to find offsets of keywords in sentences\n",
    "    def find_offsets(sentence, keywords):\n",
    "        offsets = []\n",
    "        for keyword in keywords:\n",
    "            start = sentence.find(keyword)\n",
    "            if start != -1:\n",
    "                end = start + len(keyword)\n",
    "                offsets.append((keyword, start, end))\n",
    "        return offsets\n",
    "\n",
    "    # Apply the function and expand the list of offsets into a new dataframe\n",
    "    rows = []\n",
    "    for i, row in test_df.iterrows():\n",
    "        offsets = find_offsets(row['X'].lower(), keywords)\n",
    "        for keyword, start, end in offsets:\n",
    "            rows.append({'X': row['X'], 'Keyword': keyword, 'Start': start, 'End': end, 'y':row['y']})\n",
    "\n",
    "    # Creating a new dataframe from the rows with keywords found\n",
    "    filtered_df = pd.DataFrame(rows)\n",
    "    filtered_df['y']=filtered_df['y'].map(lambda x: 'NotAffirmed' if x == 'NEG' else 'Affirmed')\n",
    "    return filtered_df"
   ]
  },
  {
   "cell_type": "code",
   "execution_count": 22,
   "metadata": {},
   "outputs": [],
   "source": [
    "test_adf=to_attr_classify(test_df)"
   ]
  },
  {
   "cell_type": "code",
   "execution_count": 23,
   "metadata": {},
   "outputs": [
    {
     "data": {
      "text/html": [
       "<div>\n",
       "<style scoped>\n",
       "    .dataframe tbody tr th:only-of-type {\n",
       "        vertical-align: middle;\n",
       "    }\n",
       "\n",
       "    .dataframe tbody tr th {\n",
       "        vertical-align: top;\n",
       "    }\n",
       "\n",
       "    .dataframe thead th {\n",
       "        text-align: right;\n",
       "    }\n",
       "</style>\n",
       "<table border=\"1\" class=\"dataframe\">\n",
       "  <thead>\n",
       "    <tr style=\"text-align: right;\">\n",
       "      <th></th>\n",
       "      <th>X</th>\n",
       "      <th>Keyword</th>\n",
       "      <th>Start</th>\n",
       "      <th>End</th>\n",
       "      <th>y</th>\n",
       "    </tr>\n",
       "  </thead>\n",
       "  <tbody>\n",
       "    <tr>\n",
       "      <th>33</th>\n",
       "      <td>PE on VQ, with workup for probable malignancy.    \\n      REASON FOR THIS EXAMINATION:\\n      Pleural effusions?</td>\n",
       "      <td>effusion</td>\n",
       "      <td>100</td>\n",
       "      <td>108</td>\n",
       "      <td>NotAffirmed</td>\n",
       "    </tr>\n",
       "    <tr>\n",
       "      <th>34</th>\n",
       "      <td>REASON FOR THIS EXAMINATION:\\n      Pleural effusions? Nodules?                                                     \\n     ______________________________________________________________________________\\n                                     FINAL REPORT\\n     HISTORY:</td>\n",
       "      <td>effusion</td>\n",
       "      <td>43</td>\n",
       "      <td>51</td>\n",
       "      <td>NotAffirmed</td>\n",
       "    </tr>\n",
       "    <tr>\n",
       "      <th>35</th>\n",
       "      <td>The lungs are otherwise clear.\\n      There are no pleural effusions.</td>\n",
       "      <td>effusion</td>\n",
       "      <td>58</td>\n",
       "      <td>66</td>\n",
       "      <td>NotAffirmed</td>\n",
       "    </tr>\n",
       "    <tr>\n",
       "      <th>36</th>\n",
       "      <td>There are no pleural effusions.   Osseous and soft-tissue structures are\\n     unremarkable.\\n     \\n</td>\n",
       "      <td>effusion</td>\n",
       "      <td>21</td>\n",
       "      <td>29</td>\n",
       "      <td>NotAffirmed</td>\n",
       "    </tr>\n",
       "    <tr>\n",
       "      <th>37</th>\n",
       "      <td>Cardiac and mediastinal\\n     contours are within normal limits for technique.   There is a layering left\\n     pleural effusion and adjacent left basilar atelectasis.</td>\n",
       "      <td>effusion</td>\n",
       "      <td>118</td>\n",
       "      <td>126</td>\n",
       "      <td>NotAffirmed</td>\n",
       "    </tr>\n",
       "    <tr>\n",
       "      <th>38</th>\n",
       "      <td>There is a layering left\\n     pleural effusion and adjacent left basilar atelectasis.   Calcified plaque is\\n     present along the left hemidiaphragm.</td>\n",
       "      <td>effusion</td>\n",
       "      <td>38</td>\n",
       "      <td>46</td>\n",
       "      <td>NotAffirmed</td>\n",
       "    </tr>\n",
       "    <tr>\n",
       "      <th>39</th>\n",
       "      <td>IMPRESSION:  AP chest compared to [**6-21**]:\\n     \\n     Bibasilar consolidation has increased substantially, particularly on the\\n     right, now accompanied by a small-to-moderate pleural effusion.   There is some\\n     pulmonary edema, heart size is normal, moderate azygous distention is stable,\\n     and the lung findings are concerning for progressive pneumonia.</td>\n",
       "      <td>pneumonia</td>\n",
       "      <td>356</td>\n",
       "      <td>365</td>\n",
       "      <td>Affirmed</td>\n",
       "    </tr>\n",
       "  </tbody>\n",
       "</table>\n",
       "</div>"
      ],
      "text/plain": [
       "                                                                                                                                                                                                                                                                                                                                                                                        X  \\\n",
       "33                                                                                                                                                                                                                                                                       PE on VQ, with workup for probable malignancy.    \\n      REASON FOR THIS EXAMINATION:\\n      Pleural effusions?   \n",
       "34                                                                                                          REASON FOR THIS EXAMINATION:\\n      Pleural effusions? Nodules?                                                     \\n     ______________________________________________________________________________\\n                                     FINAL REPORT\\n     HISTORY:     \n",
       "35                                                                                                                                                                                                                                                                                                                The lungs are otherwise clear.\\n      There are no pleural effusions.     \n",
       "36                                                                                                                                                                                                                                                                             There are no pleural effusions.   Osseous and soft-tissue structures are\\n     unremarkable.\\n     \\n        \n",
       "37                                                                                                                                                                                                              Cardiac and mediastinal\\n     contours are within normal limits for technique.   There is a layering left\\n     pleural effusion and adjacent left basilar atelectasis.     \n",
       "38                                                                                                                                                                                                                             There is a layering left\\n     pleural effusion and adjacent left basilar atelectasis.   Calcified plaque is\\n     present along the left hemidiaphragm.     \n",
       "39  IMPRESSION:  AP chest compared to [**6-21**]:\\n     \\n     Bibasilar consolidation has increased substantially, particularly on the\\n     right, now accompanied by a small-to-moderate pleural effusion.   There is some\\n     pulmonary edema, heart size is normal, moderate azygous distention is stable,\\n     and the lung findings are concerning for progressive pneumonia.     \n",
       "\n",
       "      Keyword  Start  End            y  \n",
       "33   effusion    100  108  NotAffirmed  \n",
       "34   effusion     43   51  NotAffirmed  \n",
       "35   effusion     58   66  NotAffirmed  \n",
       "36   effusion     21   29  NotAffirmed  \n",
       "37   effusion    118  126  NotAffirmed  \n",
       "38   effusion     38   46  NotAffirmed  \n",
       "39  pneumonia    356  365     Affirmed  "
      ]
     },
     "execution_count": 23,
     "metadata": {},
     "output_type": "execute_result"
    }
   ],
   "source": [
    "train_adf[33:40]"
   ]
  },
  {
   "cell_type": "code",
   "execution_count": 24,
   "metadata": {},
   "outputs": [
    {
     "data": {
      "text/html": [
       "<div>\n",
       "<style scoped>\n",
       "    .dataframe tbody tr th:only-of-type {\n",
       "        vertical-align: middle;\n",
       "    }\n",
       "\n",
       "    .dataframe tbody tr th {\n",
       "        vertical-align: top;\n",
       "    }\n",
       "\n",
       "    .dataframe thead th {\n",
       "        text-align: right;\n",
       "    }\n",
       "</style>\n",
       "<table border=\"1\" class=\"dataframe\">\n",
       "  <thead>\n",
       "    <tr style=\"text-align: right;\">\n",
       "      <th></th>\n",
       "      <th>X</th>\n",
       "      <th>Keyword</th>\n",
       "      <th>Start</th>\n",
       "      <th>End</th>\n",
       "      <th>y</th>\n",
       "    </tr>\n",
       "  </thead>\n",
       "  <tbody>\n",
       "    <tr>\n",
       "      <th>33</th>\n",
       "      <td>IMPRESSION: No focal consolidations or congestive heart failure identified.\\n\\n</td>\n",
       "      <td>consolidation</td>\n",
       "      <td>21</td>\n",
       "      <td>34</td>\n",
       "      <td>NotAffirmed</td>\n",
       "    </tr>\n",
       "    <tr>\n",
       "      <th>34</th>\n",
       "      <td>There is\\n     slight further resolution of the pulmonary edema.   Again, note is made of left\\n     basilar and paracardiac atelectasis and small left pleural effusion.\\n</td>\n",
       "      <td>effusion</td>\n",
       "      <td>158</td>\n",
       "      <td>166</td>\n",
       "      <td>NotAffirmed</td>\n",
       "    </tr>\n",
       "    <tr>\n",
       "      <th>35</th>\n",
       "      <td>Again, note is made of left\\n     basilar and paracardiac atelectasis and small left pleural effusion.\\n      Cardiomegaly.</td>\n",
       "      <td>effusion</td>\n",
       "      <td>92</td>\n",
       "      <td>100</td>\n",
       "      <td>NotAffirmed</td>\n",
       "    </tr>\n",
       "    <tr>\n",
       "      <th>36</th>\n",
       "      <td>The patient is status post median sternotomy, CABG and\\n     MVR.   There is pulmonary vascular congestion along with a left-sided pleural\\n     effusion and patchy atelectasis in the left lower lobe.</td>\n",
       "      <td>effusion</td>\n",
       "      <td>143</td>\n",
       "      <td>151</td>\n",
       "      <td>NotAffirmed</td>\n",
       "    </tr>\n",
       "    <tr>\n",
       "      <th>37</th>\n",
       "      <td>There is pulmonary vascular congestion along with a left-sided pleural\\n     effusion and patchy atelectasis in the left lower lobe.   The congestive heart\\n     failure has slightly worsened since the prior study.\\n     \\n</td>\n",
       "      <td>effusion</td>\n",
       "      <td>76</td>\n",
       "      <td>84</td>\n",
       "      <td>NotAffirmed</td>\n",
       "    </tr>\n",
       "    <tr>\n",
       "      <th>38</th>\n",
       "      <td>In the interval time from\\n     [**2924-4-10**] at 05:35, there has been development of subcutaneous air on the\\n     right.   The right pleural effusion is slightly larger.</td>\n",
       "      <td>effusion</td>\n",
       "      <td>143</td>\n",
       "      <td>151</td>\n",
       "      <td>NotAffirmed</td>\n",
       "    </tr>\n",
       "    <tr>\n",
       "      <th>39</th>\n",
       "      <td>The right pleural effusion is slightly larger.   A tiny pleural\\n     effusion is unchanged.</td>\n",
       "      <td>effusion</td>\n",
       "      <td>18</td>\n",
       "      <td>26</td>\n",
       "      <td>NotAffirmed</td>\n",
       "    </tr>\n",
       "  </tbody>\n",
       "</table>\n",
       "</div>"
      ],
      "text/plain": [
       "                                                                                                                                                                                                                                       X  \\\n",
       "33                                                                                                                                                       IMPRESSION: No focal consolidations or congestive heart failure identified.\\n\\n   \n",
       "34                                                      There is\\n     slight further resolution of the pulmonary edema.   Again, note is made of left\\n     basilar and paracardiac atelectasis and small left pleural effusion.\\n        \n",
       "35                                                                                                         Again, note is made of left\\n     basilar and paracardiac atelectasis and small left pleural effusion.\\n      Cardiomegaly.     \n",
       "36                            The patient is status post median sternotomy, CABG and\\n     MVR.   There is pulmonary vascular congestion along with a left-sided pleural\\n     effusion and patchy atelectasis in the left lower lobe.     \n",
       "37  There is pulmonary vascular congestion along with a left-sided pleural\\n     effusion and patchy atelectasis in the left lower lobe.   The congestive heart\\n     failure has slightly worsened since the prior study.\\n     \\n        \n",
       "38                                                       In the interval time from\\n     [**2924-4-10**] at 05:35, there has been development of subcutaneous air on the\\n     right.   The right pleural effusion is slightly larger.     \n",
       "39                                                                                                                                        The right pleural effusion is slightly larger.   A tiny pleural\\n     effusion is unchanged.     \n",
       "\n",
       "          Keyword  Start  End            y  \n",
       "33  consolidation     21   34  NotAffirmed  \n",
       "34       effusion    158  166  NotAffirmed  \n",
       "35       effusion     92  100  NotAffirmed  \n",
       "36       effusion    143  151  NotAffirmed  \n",
       "37       effusion     76   84  NotAffirmed  \n",
       "38       effusion    143  151  NotAffirmed  \n",
       "39       effusion     18   26  NotAffirmed  "
      ]
     },
     "execution_count": 24,
     "metadata": {},
     "output_type": "execute_result"
    }
   ],
   "source": [
    "test_adf[33:40]"
   ]
  },
  {
   "cell_type": "code",
   "execution_count": 25,
   "metadata": {},
   "outputs": [
    {
     "data": {
      "text/plain": [
       "y\n",
       "NotAffirmed    254\n",
       "Affirmed       153\n",
       "Name: count, dtype: int64"
      ]
     },
     "execution_count": 25,
     "metadata": {},
     "output_type": "execute_result"
    }
   ],
   "source": [
    "train_adf.value_counts(\"y\")"
   ]
  },
  {
   "cell_type": "code",
   "execution_count": 26,
   "metadata": {},
   "outputs": [
    {
     "data": {
      "text/plain": [
       "y\n",
       "NotAffirmed    220\n",
       "Affirmed       204\n",
       "Name: count, dtype: int64"
      ]
     },
     "execution_count": 26,
     "metadata": {},
     "output_type": "execute_result"
    }
   ],
   "source": [
    "test_adf.value_counts(\"y\")"
   ]
  },
  {
   "cell_type": "markdown",
   "metadata": {},
   "source": [
    "Assignment 1 Let's assume all the keyword identified above are true labels of NER. Now you would want to find out among these identified concepts, which are \"Affirmed\" statement, and which are not.\n",
    "\n",
    "Let's see if a BERT sequence classifier can perform well on this task. You can try following the tutorial here: https://huggingface.co/docs/transformers/en/tasks/sequence_classification"
   ]
  },
  {
   "cell_type": "code",
   "execution_count": 27,
   "metadata": {},
   "outputs": [],
   "source": [
    "from transformers import AutoTokenizer"
   ]
  },
  {
   "cell_type": "code",
   "execution_count": 85,
   "metadata": {},
   "outputs": [],
   "source": [
    "tokenizer = AutoTokenizer.from_pretrained(\"distilbert-base-uncased\")"
   ]
  },
  {
   "cell_type": "code",
   "execution_count": 86,
   "metadata": {},
   "outputs": [],
   "source": [
    "def preprocess_function(examples):\n",
    "    return tokenizer(examples[\"X\"], truncation=True)"
   ]
  },
  {
   "cell_type": "code",
   "execution_count": 30,
   "metadata": {},
   "outputs": [],
   "source": [
    "### train_adf, test_adf, X: Sentence, Keyword (effusion, opacity), Start, End, y: NotAffirmed / Affirmed"
   ]
  },
  {
   "cell_type": "code",
   "execution_count": 31,
   "metadata": {},
   "outputs": [],
   "source": [
    "#pip install datasets "
   ]
  },
  {
   "cell_type": "code",
   "execution_count": 87,
   "metadata": {},
   "outputs": [],
   "source": [
    "from datasets import Dataset"
   ]
  },
  {
   "cell_type": "code",
   "execution_count": 88,
   "metadata": {},
   "outputs": [],
   "source": [
    "train_adf_dataset = Dataset.from_pandas(train_adf)\n",
    "test_adf_dataset = Dataset.from_pandas(test_adf)\n"
   ]
  },
  {
   "cell_type": "code",
   "execution_count": 89,
   "metadata": {},
   "outputs": [
    {
     "data": {
      "application/vnd.jupyter.widget-view+json": {
       "model_id": "3a4788fa0ca84d09bd4fedb9cb990ecb",
       "version_major": 2,
       "version_minor": 0
      },
      "text/plain": [
       "Map:   0%|          | 0/407 [00:00<?, ? examples/s]"
      ]
     },
     "metadata": {},
     "output_type": "display_data"
    }
   ],
   "source": [
    "### Add a column with Not/Affirmed labels\n",
    "train_adf_dataset = train_adf_dataset.map(lambda example: {'labels': 1 if example['y'] == 'Affirmed' else 0})"
   ]
  },
  {
   "cell_type": "code",
   "execution_count": 90,
   "metadata": {},
   "outputs": [
    {
     "data": {
      "text/plain": [
       "{'X': ['The pulmonary vasculature is normal and there is no pneumothorax\\n     on this supine radiograph.   A consolidation with air bronchograms in the left\\n     lower lobe is new.  ',\n",
       "  'A consolidation with air bronchograms in the left\\n     lower lobe is new.   No right-sided consolidations or effusions are noted.\\n     \\n     ',\n",
       "  'A consolidation with air bronchograms in the left\\n     lower lobe is new.   No right-sided consolidations or effusions are noted.\\n     \\n     '],\n",
       " 'Keyword': ['consolidation', 'effusion', 'consolidation'],\n",
       " 'Start': [101, 109, 2],\n",
       " 'End': [114, 117, 15],\n",
       " 'y': ['Affirmed', 'Affirmed', 'Affirmed'],\n",
       " 'labels': [1, 1, 1]}"
      ]
     },
     "execution_count": 90,
     "metadata": {},
     "output_type": "execute_result"
    }
   ],
   "source": [
    "train_adf_dataset[0:3]"
   ]
  },
  {
   "cell_type": "code",
   "execution_count": 91,
   "metadata": {},
   "outputs": [
    {
     "data": {
      "application/vnd.jupyter.widget-view+json": {
       "model_id": "3a17e80afb01498b8a2bbba7f5b5bcea",
       "version_major": 2,
       "version_minor": 0
      },
      "text/plain": [
       "Map:   0%|          | 0/424 [00:00<?, ? examples/s]"
      ]
     },
     "metadata": {},
     "output_type": "display_data"
    }
   ],
   "source": [
    "test_adf_dataset = test_adf_dataset.map(lambda example: {'labels': 1 if example['y'] == 'Affirmed' else 0})"
   ]
  },
  {
   "cell_type": "code",
   "execution_count": 92,
   "metadata": {},
   "outputs": [
    {
     "data": {
      "text/plain": [
       "{'X': ['[**2993-7-25**] 4:58 PM\\n     CHEST (PORTABLE AP)                                             Clip # [**Clip Number (Radiology) 6033**]\\n     Reason: assess for infiltrate                                       \\n     ______________________________________________________________________________\\n     UNDERLYING MEDICAL CONDITION:\\n      35 year old man with s/p cardiac arrest                                         \\n     REASON FOR THIS EXAMINATION:\\n      assess for infiltrate                                                           \\n     ______________________________________________________________________________\\n     ',\n",
       "  '[**Clip Number (Radiology) 6033**]\\n     Reason: assess for infiltrate                                       \\n     ______________________________________________________________________________\\n     UNDERLYING MEDICAL CONDITION:\\n      35 year old man with s/p cardiac arrest                                         \\n     REASON FOR THIS EXAMINATION:\\n      assess for infiltrate                                                           \\n     ______________________________________________________________________________\\n      WET READ:',\n",
       "  '35-year-old, status post cardiac arrest.   Evaluate for\\n     infiltrate.\\n     \\n     '],\n",
       " 'Keyword': ['infiltrate', 'infiltrate', 'infiltrate'],\n",
       " 'Start': [159, 59, 61],\n",
       " 'End': [169, 69, 71],\n",
       " 'y': ['NotAffirmed', 'NotAffirmed', 'NotAffirmed'],\n",
       " 'labels': [0, 0, 0]}"
      ]
     },
     "execution_count": 92,
     "metadata": {},
     "output_type": "execute_result"
    }
   ],
   "source": [
    "test_adf_dataset[0:3]"
   ]
  },
  {
   "cell_type": "code",
   "execution_count": 96,
   "metadata": {},
   "outputs": [
    {
     "data": {
      "text/plain": [
       "Dataset({\n",
       "    features: ['X', 'Keyword', 'Start', 'End', 'y', 'labels'],\n",
       "    num_rows: 424\n",
       "})"
      ]
     },
     "execution_count": 96,
     "metadata": {},
     "output_type": "execute_result"
    }
   ],
   "source": [
    "test_adf_dataset"
   ]
  },
  {
   "cell_type": "code",
   "execution_count": 97,
   "metadata": {},
   "outputs": [
    {
     "data": {
      "application/vnd.jupyter.widget-view+json": {
       "model_id": "8fdfa5a3bdb64572ad8d181b0f5d094d",
       "version_major": 2,
       "version_minor": 0
      },
      "text/plain": [
       "Map:   0%|          | 0/407 [00:00<?, ? examples/s]"
      ]
     },
     "metadata": {},
     "output_type": "display_data"
    }
   ],
   "source": [
    "train_adf_tok = train_adf_dataset.map(preprocess_function, batched=True)"
   ]
  },
  {
   "cell_type": "code",
   "execution_count": 98,
   "metadata": {},
   "outputs": [
    {
     "data": {
      "application/vnd.jupyter.widget-view+json": {
       "model_id": "3075a18a56374d5d8a3b721c1b9d4dd8",
       "version_major": 2,
       "version_minor": 0
      },
      "text/plain": [
       "Map:   0%|          | 0/424 [00:00<?, ? examples/s]"
      ]
     },
     "metadata": {},
     "output_type": "display_data"
    }
   ],
   "source": [
    "test_adf_tok = test_adf_dataset.map(preprocess_function, batched=True)"
   ]
  },
  {
   "cell_type": "code",
   "execution_count": 99,
   "metadata": {},
   "outputs": [
    {
     "data": {
      "text/plain": [
       "Dataset({\n",
       "    features: ['X', 'Keyword', 'Start', 'End', 'y', 'labels', 'input_ids', 'attention_mask'],\n",
       "    num_rows: 407\n",
       "})"
      ]
     },
     "execution_count": 99,
     "metadata": {},
     "output_type": "execute_result"
    }
   ],
   "source": [
    "train_adf_tok "
   ]
  },
  {
   "cell_type": "code",
   "execution_count": 76,
   "metadata": {},
   "outputs": [],
   "source": [
    "#train_adf_tok[1]"
   ]
  },
  {
   "cell_type": "code",
   "execution_count": 100,
   "metadata": {},
   "outputs": [
    {
     "data": {
      "text/plain": [
       "Dataset({\n",
       "    features: ['X', 'Keyword', 'Start', 'End', 'y', 'labels', 'input_ids', 'attention_mask'],\n",
       "    num_rows: 424\n",
       "})"
      ]
     },
     "execution_count": 100,
     "metadata": {},
     "output_type": "execute_result"
    }
   ],
   "source": [
    "test_adf_tok "
   ]
  },
  {
   "cell_type": "code",
   "execution_count": 39,
   "metadata": {},
   "outputs": [
    {
     "name": "stderr",
     "output_type": "stream",
     "text": [
      "2024-03-24 14:08:52,533 tensorflow   WARNING  From c:\\Users\\carri\\anaconda3\\envs\\bmi.biobert_env\\Lib\\site-packages\\keras\\src\\losses.py:2976: The name tf.losses.sparse_softmax_cross_entropy is deprecated. Please use tf.compat.v1.losses.sparse_softmax_cross_entropy instead.\n",
      "\n"
     ]
    }
   ],
   "source": [
    "import tensorflow as tf"
   ]
  },
  {
   "cell_type": "code",
   "execution_count": 109,
   "metadata": {},
   "outputs": [],
   "source": [
    "from transformers import DataCollatorWithPadding\n",
    "data_collator = DataCollatorWithPadding(tokenizer=tokenizer, return_tensors=\"tf\")"
   ]
  },
  {
   "cell_type": "code",
   "execution_count": 113,
   "metadata": {},
   "outputs": [],
   "source": [
    "### id2label = {0: \"NEGATIVE\", 1: \"POSITIVE\"}\n",
    "### label2id = {\"NEGATIVE\": 0, \"POSITIVE\": 1}\n",
    "id2label = {0: \"NotAffirmed\", 1: \"Affirmed\"}\n",
    "label2id = {\"NotAffirmed\": 0, \"Affirmed\": 1}"
   ]
  },
  {
   "cell_type": "code",
   "execution_count": 114,
   "metadata": {},
   "outputs": [],
   "source": [
    "from transformers import create_optimizer"
   ]
  },
  {
   "cell_type": "code",
   "execution_count": 115,
   "metadata": {},
   "outputs": [],
   "source": [
    "from transformers import TFAutoModelForSequenceClassification"
   ]
  },
  {
   "cell_type": "code",
   "execution_count": 140,
   "metadata": {},
   "outputs": [],
   "source": [
    "batch_size = 16\n",
    "num_epochs = 3\n",
    "batches_per_epoch = len(train_adf_tok) // batch_size\n",
    "total_train_steps = int(batches_per_epoch * num_epochs)\n",
    "optimizer, schedule = create_optimizer(init_lr=2e-5, num_warmup_steps=0, num_train_steps=total_train_steps)"
   ]
  },
  {
   "cell_type": "code",
   "execution_count": 142,
   "metadata": {},
   "outputs": [
    {
     "name": "stderr",
     "output_type": "stream",
     "text": [
      "Some weights of the PyTorch model were not used when initializing the TF 2.0 model TFDistilBertForSequenceClassification: ['vocab_projector.bias', 'vocab_layer_norm.bias', 'vocab_layer_norm.weight', 'vocab_transform.weight', 'vocab_transform.bias']\n",
      "- This IS expected if you are initializing TFDistilBertForSequenceClassification from a PyTorch model trained on another task or with another architecture (e.g. initializing a TFBertForSequenceClassification model from a BertForPreTraining model).\n",
      "- This IS NOT expected if you are initializing TFDistilBertForSequenceClassification from a PyTorch model that you expect to be exactly identical (e.g. initializing a TFBertForSequenceClassification model from a BertForSequenceClassification model).\n",
      "Some weights or buffers of the TF 2.0 model TFDistilBertForSequenceClassification were not initialized from the PyTorch model and are newly initialized: ['pre_classifier.weight', 'pre_classifier.bias', 'classifier.weight', 'classifier.bias']\n",
      "You should probably TRAIN this model on a down-stream task to be able to use it for predictions and inference.\n"
     ]
    }
   ],
   "source": [
    "model = TFAutoModelForSequenceClassification.from_pretrained(\n",
    "    \"distilbert-base-uncased\", num_labels=2, id2label=id2label, label2id=label2id\n",
    ")"
   ]
  },
  {
   "cell_type": "code",
   "execution_count": 143,
   "metadata": {},
   "outputs": [],
   "source": [
    "tf_train_set = model.prepare_tf_dataset(\n",
    "    train_adf_tok,\n",
    "    shuffle=True,\n",
    "    batch_size=batch_size,\n",
    "    collate_fn=data_collator,\n",
    ")"
   ]
  },
  {
   "cell_type": "code",
   "execution_count": 144,
   "metadata": {},
   "outputs": [],
   "source": [
    "tf_validation_set = model.prepare_tf_dataset(\n",
    "    test_adf_tok,\n",
    "    shuffle=False,\n",
    "    batch_size=batch_size,\n",
    "    collate_fn=data_collator,\n",
    ")"
   ]
  },
  {
   "cell_type": "code",
   "execution_count": 147,
   "metadata": {},
   "outputs": [],
   "source": [
    "model.compile(optimizer=optimizer)  "
   ]
  },
  {
   "cell_type": "code",
   "execution_count": 149,
   "metadata": {},
   "outputs": [
    {
     "name": "stdout",
     "output_type": "stream",
     "text": [
      "Epoch 1/3\n",
      "25/25 [==============================] - 130s 5s/step - loss: 0.5781 - val_loss: 0.5011\n",
      "Epoch 2/3\n",
      "25/25 [==============================] - 121s 5s/step - loss: 0.3551 - val_loss: 0.3574\n",
      "Epoch 3/3\n",
      "25/25 [==============================] - 126s 5s/step - loss: 0.2458 - val_loss: 0.3140\n"
     ]
    },
    {
     "data": {
      "text/plain": [
       "<keras.src.callbacks.History at 0x17d98811b90>"
      ]
     },
     "execution_count": 149,
     "metadata": {},
     "output_type": "execute_result"
    }
   ],
   "source": [
    "model.fit(x=tf_train_set, validation_data=tf_validation_set, epochs=num_epochs)"
   ]
  },
  {
   "cell_type": "code",
   "execution_count": 150,
   "metadata": {},
   "outputs": [
    {
     "name": "stdout",
     "output_type": "stream",
     "text": [
      "27/27 [==============================] - 25s 877ms/step\n",
      "              precision    recall  f1-score   support\n",
      "\n",
      " NotAffirmed       0.93      0.85      0.89       220\n",
      "    Affirmed       0.86      0.93      0.89       204\n",
      "\n",
      "    accuracy                           0.89       424\n",
      "   macro avg       0.89      0.89      0.89       424\n",
      "weighted avg       0.89      0.89      0.89       424\n",
      "\n"
     ]
    }
   ],
   "source": [
    "from sklearn.metrics import classification_report\n",
    "y_pred = model.predict(tf_validation_set).logits.argmax(axis=-1)\n",
    "y_true = [example['labels'] for example in test_adf_tok]\n",
    "report = classification_report(y_true, y_pred, target_names=['NotAffirmed', 'Affirmed'])\n",
    "\n",
    "print(report)"
   ]
  },
  {
   "cell_type": "markdown",
   "metadata": {},
   "source": [
    "Assignment 2\n",
    "Now, you will want to identify the errors your model made. List the errors observed. What are your thoughts on the potential causes and possible solutions?"
   ]
  },
  {
   "cell_type": "code",
   "execution_count": 153,
   "metadata": {},
   "outputs": [
    {
     "name": "stdout",
     "output_type": "stream",
     "text": [
      "27/27 [==============================] - 27s 978ms/step\n",
      "['[**2993-7-25**] 4:58 PM\\n     CHEST (PORTABLE AP)                                             Clip # [**Clip Number (Radiology) 6033**]\\n     Reason: assess for infiltrate                                       \\n     ______________________________________________________________________________\\n     UNDERLYING MEDICAL CONDITION:\\n      35 year old man with s/p cardiac arrest                                         \\n     REASON FOR THIS EXAMINATION:\\n      assess for infiltrate                                                           \\n     ______________________________________________________________________________\\n     ', '[**Clip Number (Radiology) 6033**]\\n     Reason: assess for infiltrate                                       \\n     ______________________________________________________________________________\\n     UNDERLYING MEDICAL CONDITION:\\n      35 year old man with s/p cardiac arrest                                         \\n     REASON FOR THIS EXAMINATION:\\n      assess for infiltrate                                                           \\n     ______________________________________________________________________________\\n      WET READ:', '35-year-old, status post cardiac arrest.   Evaluate for\\n     infiltrate.\\n     \\n     ', 'Evaluate for\\n     infiltrate.\\n     \\n      COMPARISON:  ', 'There is mild prominence of pulmonary\\n     vasculature, which may reflect low lung volumes.   No pleural effusion or\\n     pneumothorax is seen.  ', 'No pleural effusion or\\n     pneumothorax is seen.   The osseous structures are within normal limits, no\\n     fractures are identified.  ', 'No pneumothorax.   No\\n     vascular congestion or pleural effusions on this lordotic view.  ', 'No\\n     vascular congestion or pleural effusions on this lordotic view.   The cardiac\\n     and mediastinal contours are stable.  ', 'The cardiac\\n     and mediastinal contours are stable.   No focal infiltrates.\\n     \\n     ', 'No focal infiltrates.\\n     \\n      IMPRESSION:  ', 'Adjacent opacity is noted\\n     in the middle and lower lobe.   The presence of volume loss favors atelectasis.\\n     ', 'There is marked elevation of the right hemidiaphragm which is increased in\\n     degree of elevation since the previous radiograph.   Adjacent opacity is noted\\n     in the middle and lower lobe.  ', 'The presence of volume loss favors atelectasis.\\n      Additional patchy opacity is seen in the left retrocardiac region, and may be\\n     due to atelectasis or pneumonia.  ', 'The presence of volume loss favors atelectasis.\\n      Additional patchy opacity is seen in the left retrocardiac region, and may be\\n     due to atelectasis or pneumonia.  ', 'Additional patchy opacity is seen in the left retrocardiac region, and may be\\n     due to atelectasis or pneumonia.   Followup radiographs are suggested.\\n                                                                           \\n\\n', 'Additional patchy opacity is seen in the left retrocardiac region, and may be\\n     due to atelectasis or pneumonia.   Followup radiographs are suggested.\\n                                                                           \\n\\n', 'Ill-defined multifocal\\n     opacities are in the left upper lobe and in both bases, right greater than\\n     left.   Small bilateral pleural effusions are greater in the left side.  ', 'There\\n     is no pneumothorax.\\n     \\n      IMPRESSION:  Multifocal pneumonia.\\n\\n', 'Clip # [**Clip Number (Radiology) 241**]\\n     Reason: Evaluate for infiltrate                                     \\n     Admitting Diagnosis: PNEUMONIA\\n     ______________________________________________________________________________\\n     UNDERLYING MEDICAL CONDITION:\\n      70 year old man with history of MDS, p/w cough and aspiration event.            \\n     ', 'Clip # [**Clip Number (Radiology) 241**]\\n     Reason: Evaluate for infiltrate                                     \\n     Admitting Diagnosis: PNEUMONIA\\n     ______________________________________________________________________________\\n     UNDERLYING MEDICAL CONDITION:\\n      70 year old man with history of MDS, p/w cough and aspiration event.            \\n     ', '[**Clip Number (Radiology) 241**]\\n     Reason: Evaluate for infiltrate                                     \\n     Admitting Diagnosis: PNEUMONIA\\n     ______________________________________________________________________________\\n     UNDERLYING MEDICAL CONDITION:\\n      70 year old man with history of MDS, p/w cough and aspiration event.            \\n      REASON FOR THIS EXAMINATION:\\n      ', '[**Clip Number (Radiology) 241**]\\n     Reason: Evaluate for infiltrate                                     \\n     Admitting Diagnosis: PNEUMONIA\\n     ______________________________________________________________________________\\n     UNDERLYING MEDICAL CONDITION:\\n      70 year old man with history of MDS, p/w cough and aspiration event.            \\n      REASON FOR THIS EXAMINATION:\\n      ', 'REASON FOR THIS EXAMINATION:\\n       Evaluate for infiltrate                                                         \\n     ______________________________________________________________________________\\n                                     FINAL REPORT\\n     PA AND LATERAL VIEWS OF THE CHEST\\n     \\n     REASON FOR EXAM:  ', 'Evaluate for infiltrate                                                         \\n     ______________________________________________________________________________\\n                                     FINAL REPORT\\n     PA AND LATERAL VIEWS OF THE CHEST\\n     \\n     REASON FOR EXAM:   Cough, aspiration event, history of MDS\\n     \\n     There are no prior studies available for comparison.\\n     \\n     ', 'Small bilateral pleural effusions are greater in the left side.   There\\n     is no pneumothorax.\\n     \\n     ', 'There was no evidence of lung abnormalities.   There was no evidence of\\n     consolidation, congestion, or effusions (on the right side).  ', 'There was no evidence of lung abnormalities.   There was no evidence of\\n     consolidation, congestion, or effusions (on the right side).  ', 'There was no evidence of\\n     consolidation, congestion, or effusions (on the right side).   The cardiac\\n     silhouette is not enlarged.\\n     \\n     ', 'There was no evidence of\\n     consolidation, congestion, or effusions (on the right side).   The cardiac\\n     silhouette is not enlarged.\\n     \\n     ', '[**3261-9-7**] 7:32 AM\\n     CHEST (PORTABLE AP)                                             Clip # [**Clip Number (Radiology) 6271**]\\n     Reason: SOB, FEVER\\n     Admitting Diagnosis: JAUNDICE;FEVER OF UNKNOWN ORIGEN\\n     ______________________________________________________________________________\\n     UNDERLYING MEDICAL CONDITION:\\n      69 year old woman with hepatic insufficiency, sob and persistent fevers of \\n      unknown origin\\n     REASON FOR THIS EXAMINATION:\\n      please evaluate for infiltrate                                                  \\n     ______________________________________________________________________________\\n                                     ', '[**Clip Number (Radiology) 6271**]\\n     Reason: SOB, FEVER\\n     Admitting Diagnosis: JAUNDICE;FEVER OF UNKNOWN ORIGEN\\n     ______________________________________________________________________________\\n     UNDERLYING MEDICAL CONDITION:\\n      69 year old woman with hepatic insufficiency, sob and persistent fevers of \\n      unknown origin\\n     REASON FOR THIS EXAMINATION:\\n      please evaluate for infiltrate                                                  \\n     ______________________________________________________________________________\\n                                      FINAL REPORT\\n     INDICATION:', 'The left\\n     costophrenic angle is excluded. No right effusion is seen.', 'No right effusion is seen. No pneumothorax is\\n     present.', 'IMPRESSION: No focal consolidations or congestive heart failure identified.\\n\\n', 'There is\\n     slight further resolution of the pulmonary edema.   Again, note is made of left\\n     basilar and paracardiac atelectasis and small left pleural effusion.\\n     ', 'Again, note is made of left\\n     basilar and paracardiac atelectasis and small left pleural effusion.\\n      Cardiomegaly.  ', 'The patient is status post median sternotomy, CABG and\\n     MVR.   There is pulmonary vascular congestion along with a left-sided pleural\\n     effusion and patchy atelectasis in the left lower lobe.  ', 'There is pulmonary vascular congestion along with a left-sided pleural\\n     effusion and patchy atelectasis in the left lower lobe.   The congestive heart\\n     failure has slightly worsened since the prior study.\\n     \\n     ', 'In the interval time from\\n     [**2924-4-10**] at 05:35, there has been development of subcutaneous air on the\\n     right.   The right pleural effusion is slightly larger.  ', 'The right pleural effusion is slightly larger.   A tiny pleural\\n     effusion is unchanged.  ', 'A tiny pleural\\n     effusion is unchanged.   Left lower lobe atelectasis is unchanged.  ', 'FINDINGS:   Since prior examination, has been interval development of bibasilar\\n     opacities, may represent atelectasis or aspiration pneumonia.', 'Since prior examination, has been interval development of bibasilar\\n     opacities, may represent atelectasis or aspiration pneumonia. Right- sided\\n     subclavian approach central venous line is seen with its tip projecting over\\n     the cavoatrial junction.  ', 'New bibasilar opacities, which may represent atelectasis or aspiration\\n     pneumonia.\\n     \\n      2.  ', 'IMPRESSION:\\n     \\n     1.   New bibasilar opacities, which may represent atelectasis or aspiration\\n     pneumonia.\\n     \\n     ', 'The heart size and mediastinal\\n     contours are normal.   The lungs are clear with no parenchymal consolidation,\\n     failure, pneumothorax, or pleural effusion.  ']\n"
     ]
    }
   ],
   "source": [
    "# Get the model predictions on the validation set\n",
    "y_pred = model.predict(tf_validation_set).logits.argmax(axis=-1)\n",
    "# Get the true labels from the validation set\n",
    "y_true = [example['labels'] for example in test_adf_tok]\n",
    "# Compare the predicted labels with the true labels and identify the errors\n",
    "errors = [(x, y) for x, y in zip(y_true, y_pred) if x != y]\n",
    "# Print the errors\n",
    "#print(errors)\n",
    "error_X = [test_adf_tok[i]['X'] for i in range(len(errors))]\n",
    "print(error_X)\n"
   ]
  },
  {
   "cell_type": "markdown",
   "metadata": {},
   "source": [
    "Assignment 3\n",
    "Now, let's try a simple yet proven effective approach. I'm not certain if it will make some difference on the \"mimic\" dataset, but we'll see :)\n",
    "Instead of using the X directly as the input, let's try inserting the \"[SEP]\" token both before and after the keyword (What is \"[SEP]\"?). Then, use this revised string as the input to train your model.\n"
   ]
  },
  {
   "cell_type": "code",
   "execution_count": null,
   "metadata": {},
   "outputs": [],
   "source": [
    "\n"
   ]
  }
 ],
 "metadata": {
  "kernelspec": {
   "display_name": "bmi.biobert",
   "language": "python",
   "name": "bmi.biobert_env"
  },
  "language_info": {
   "codemirror_mode": {
    "name": "ipython",
    "version": 3
   },
   "file_extension": ".py",
   "mimetype": "text/x-python",
   "name": "python",
   "nbconvert_exporter": "python",
   "pygments_lexer": "ipython3",
   "version": "3.11.5"
  }
 },
 "nbformat": 4,
 "nbformat_minor": 2
}

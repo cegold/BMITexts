{
 "cells": [
  {
   "cell_type": "code",
   "execution_count": 1,
   "metadata": {},
   "outputs": [
    {
     "name": "stdout",
     "output_type": "stream",
     "text": [
      "Requirement already satisfied: requests in c:\\users\\carri\\anaconda3\\envs\\bmi.biobert_env\\lib\\site-packages (2.31.0)\n",
      "Requirement already satisfied: charset-normalizer<4,>=2 in c:\\users\\carri\\anaconda3\\envs\\bmi.biobert_env\\lib\\site-packages (from requests) (3.3.2)\n",
      "Requirement already satisfied: idna<4,>=2.5 in c:\\users\\carri\\anaconda3\\envs\\bmi.biobert_env\\lib\\site-packages (from requests) (3.4)\n",
      "Requirement already satisfied: urllib3<3,>=1.21.1 in c:\\users\\carri\\anaconda3\\envs\\bmi.biobert_env\\lib\\site-packages (from requests) (2.0.7)\n",
      "Requirement already satisfied: certifi>=2017.4.17 in c:\\users\\carri\\anaconda3\\envs\\bmi.biobert_env\\lib\\site-packages (from requests) (2023.7.22)\n",
      "Note: you may need to restart the kernel to use updated packages.\n"
     ]
    }
   ],
   "source": [
    "### Module 11 Assignment 3 Carrie Gold\n",
    "%pip install requests"
   ]
  },
  {
   "cell_type": "code",
   "execution_count": 2,
   "metadata": {},
   "outputs": [
    {
     "name": "stdout",
     "output_type": "stream",
     "text": [
      "Requirement already satisfied: transformers==4.39.1 in c:\\users\\carri\\anaconda3\\envs\\bmi.biobert_env\\lib\\site-packages (4.39.1)\n",
      "Requirement already satisfied: filelock in c:\\users\\carri\\anaconda3\\envs\\bmi.biobert_env\\lib\\site-packages (from transformers==4.39.1) (3.9.0)\n",
      "Requirement already satisfied: huggingface-hub<1.0,>=0.19.3 in c:\\users\\carri\\anaconda3\\envs\\bmi.biobert_env\\lib\\site-packages (from transformers==4.39.1) (0.21.4)\n",
      "Requirement already satisfied: numpy>=1.17 in c:\\users\\carri\\anaconda3\\envs\\bmi.biobert_env\\lib\\site-packages (from transformers==4.39.1) (1.26.0)\n",
      "Requirement already satisfied: packaging>=20.0 in c:\\users\\carri\\anaconda3\\envs\\bmi.biobert_env\\lib\\site-packages (from transformers==4.39.1) (23.2)\n",
      "Requirement already satisfied: pyyaml>=5.1 in c:\\users\\carri\\anaconda3\\envs\\bmi.biobert_env\\lib\\site-packages (from transformers==4.39.1) (6.0.1)\n",
      "Requirement already satisfied: regex!=2019.12.17 in c:\\users\\carri\\anaconda3\\envs\\bmi.biobert_env\\lib\\site-packages (from transformers==4.39.1) (2023.10.3)\n",
      "Requirement already satisfied: requests in c:\\users\\carri\\anaconda3\\envs\\bmi.biobert_env\\lib\\site-packages (from transformers==4.39.1) (2.31.0)\n",
      "Requirement already satisfied: tokenizers<0.19,>=0.14 in c:\\users\\carri\\anaconda3\\envs\\bmi.biobert_env\\lib\\site-packages (from transformers==4.39.1) (0.15.2)\n",
      "Requirement already satisfied: safetensors>=0.4.1 in c:\\users\\carri\\anaconda3\\envs\\bmi.biobert_env\\lib\\site-packages (from transformers==4.39.1) (0.4.2)\n",
      "Requirement already satisfied: tqdm>=4.27 in c:\\users\\carri\\anaconda3\\envs\\bmi.biobert_env\\lib\\site-packages (from transformers==4.39.1) (4.66.1)\n",
      "Requirement already satisfied: fsspec>=2023.5.0 in c:\\users\\carri\\anaconda3\\envs\\bmi.biobert_env\\lib\\site-packages (from huggingface-hub<1.0,>=0.19.3->transformers==4.39.1) (2023.10.0)\n",
      "Requirement already satisfied: typing-extensions>=3.7.4.3 in c:\\users\\carri\\anaconda3\\envs\\bmi.biobert_env\\lib\\site-packages (from huggingface-hub<1.0,>=0.19.3->transformers==4.39.1) (4.7.1)\n",
      "Requirement already satisfied: colorama in c:\\users\\carri\\anaconda3\\envs\\bmi.biobert_env\\lib\\site-packages (from tqdm>=4.27->transformers==4.39.1) (0.4.6)\n",
      "Requirement already satisfied: charset-normalizer<4,>=2 in c:\\users\\carri\\anaconda3\\envs\\bmi.biobert_env\\lib\\site-packages (from requests->transformers==4.39.1) (3.3.2)\n",
      "Requirement already satisfied: idna<4,>=2.5 in c:\\users\\carri\\anaconda3\\envs\\bmi.biobert_env\\lib\\site-packages (from requests->transformers==4.39.1) (3.4)\n",
      "Requirement already satisfied: urllib3<3,>=1.21.1 in c:\\users\\carri\\anaconda3\\envs\\bmi.biobert_env\\lib\\site-packages (from requests->transformers==4.39.1) (2.0.7)\n",
      "Requirement already satisfied: certifi>=2017.4.17 in c:\\users\\carri\\anaconda3\\envs\\bmi.biobert_env\\lib\\site-packages (from requests->transformers==4.39.1) (2023.7.22)\n",
      "Note: you may need to restart the kernel to use updated packages.\n"
     ]
    }
   ],
   "source": [
    "pip install transformers==4.39.1"
   ]
  },
  {
   "cell_type": "code",
   "execution_count": 3,
   "metadata": {},
   "outputs": [
    {
     "name": "stdout",
     "output_type": "stream",
     "text": [
      "File downloaded successfully: training_v2.zip\n"
     ]
    }
   ],
   "source": [
    "import requests\n",
    "from pathlib import Path\n",
    "\n",
    "def download_file(url, save_path):\n",
    "    \"\"\"Download a file from a URL and save it to the specified path.\"\"\"\n",
    "    response = requests.get(url)\n",
    "    response.raise_for_status()  # Check if the download was successful\n",
    "\n",
    "    with open(save_path, 'wb') as f:\n",
    "        f.write(response.content)\n",
    "    print(f\"File downloaded successfully: {save_path}\")\n",
    "\n",
    "# URL of the dataset\n",
    "url_train = \"https://github.com/UUDeCART/decart_rule_based_nlp/raw/master/data/training_v2.zip\"\n",
    "# Path where you want to save the downloaded file\n",
    "save_path_train = Path(\"training_v2.zip\")\n",
    "\n",
    "download_file(url_train, save_path_train)"
   ]
  },
  {
   "cell_type": "code",
   "execution_count": 4,
   "metadata": {},
   "outputs": [
    {
     "name": "stdout",
     "output_type": "stream",
     "text": [
      "File downloaded successfully: test_v2.zip\n"
     ]
    }
   ],
   "source": [
    "url_test = \"https://github.com/UUDeCART/decart_rule_based_nlp/raw/master/data/test_v2.zip\"\n",
    "save_path_test = Path(\"test_v2.zip\")\n",
    "\n",
    "download_file(url_test, save_path_test)"
   ]
  },
  {
   "cell_type": "code",
   "execution_count": 5,
   "metadata": {},
   "outputs": [
    {
     "name": "stdout",
     "output_type": "stream",
     "text": [
      "File unzipped successfully to: test_v2\n",
      "File unzipped successfully to: training_v2\n"
     ]
    }
   ],
   "source": [
    "import zipfile\n",
    "\n",
    "zip_path = save_path_test\n",
    "extract_path = save_path_test.parent / \"test_v2\"\n",
    "\n",
    "with zipfile.ZipFile(zip_path, 'r') as zip_ref:\n",
    "    zip_ref.extractall(extract_path)\n",
    "\n",
    "print(f\"File unzipped successfully to: {extract_path}\")\n",
    "import zipfile\n",
    "\n",
    "zip_path = \"training_v2.zip\"\n",
    "extract_path = \"training_v2\"\n",
    "\n",
    "with zipfile.ZipFile(zip_path, 'r') as zip_ref:\n",
    "    zip_ref.extractall(extract_path)\n",
    "\n",
    "print(f\"File unzipped successfully to: {extract_path}\")"
   ]
  },
  {
   "cell_type": "code",
   "execution_count": 6,
   "metadata": {},
   "outputs": [
    {
     "name": "stdout",
     "output_type": "stream",
     "text": [
      "Requirement already satisfied: quicksectx in c:\\users\\carri\\anaconda3\\envs\\bmi.biobert_env\\lib\\site-packages (0.3.9)\n",
      "Requirement already satisfied: Cython<=3.0.8,>=0.25 in c:\\users\\carri\\anaconda3\\envs\\bmi.biobert_env\\lib\\site-packages (from quicksectx) (3.0.8)\n",
      "Note: you may need to restart the kernel to use updated packages.\n"
     ]
    }
   ],
   "source": [
    "pip install quicksectx"
   ]
  },
  {
   "cell_type": "code",
   "execution_count": 7,
   "metadata": {},
   "outputs": [],
   "source": [
    "#pip install spacy"
   ]
  },
  {
   "cell_type": "code",
   "execution_count": 8,
   "metadata": {},
   "outputs": [
    {
     "name": "stdout",
     "output_type": "stream",
     "text": [
      "Collecting git+https://github.com/medspacy/medspacy_io\n",
      "  Cloning https://github.com/medspacy/medspacy_io to c:\\users\\carri\\appdata\\local\\temp\\pip-req-build-zyqgneq4\n",
      "  Resolved https://github.com/medspacy/medspacy_io to commit 52682d9b208cafb65733ac2aef9d6cd3f139df63\n",
      "  Preparing metadata (setup.py): started\n",
      "  Preparing metadata (setup.py): finished with status 'done'\n",
      "Requirement already satisfied: lxml>=4.4.0 in c:\\users\\carri\\anaconda3\\envs\\bmi.biobert_env\\lib\\site-packages (from medspacy-io==0.1.0.dev34) (5.1.0)\n",
      "Requirement already satisfied: spacy>=2.2.2 in c:\\users\\carri\\anaconda3\\envs\\bmi.biobert_env\\lib\\site-packages (from medspacy-io==0.1.0.dev34) (3.7.4)\n",
      "Requirement already satisfied: spacy-legacy<3.1.0,>=3.0.11 in c:\\users\\carri\\anaconda3\\envs\\bmi.biobert_env\\lib\\site-packages (from spacy>=2.2.2->medspacy-io==0.1.0.dev34) (3.0.12)\n",
      "Requirement already satisfied: spacy-loggers<2.0.0,>=1.0.0 in c:\\users\\carri\\anaconda3\\envs\\bmi.biobert_env\\lib\\site-packages (from spacy>=2.2.2->medspacy-io==0.1.0.dev34) (1.0.5)\n",
      "Requirement already satisfied: murmurhash<1.1.0,>=0.28.0 in c:\\users\\carri\\anaconda3\\envs\\bmi.biobert_env\\lib\\site-packages (from spacy>=2.2.2->medspacy-io==0.1.0.dev34) (1.0.10)\n",
      "Requirement already satisfied: cymem<2.1.0,>=2.0.2 in c:\\users\\carri\\anaconda3\\envs\\bmi.biobert_env\\lib\\site-packages (from spacy>=2.2.2->medspacy-io==0.1.0.dev34) (2.0.8)\n",
      "Requirement already satisfied: preshed<3.1.0,>=3.0.2 in c:\\users\\carri\\anaconda3\\envs\\bmi.biobert_env\\lib\\site-packages (from spacy>=2.2.2->medspacy-io==0.1.0.dev34) (3.0.9)\n",
      "Requirement already satisfied: thinc<8.3.0,>=8.2.2 in c:\\users\\carri\\anaconda3\\envs\\bmi.biobert_env\\lib\\site-packages (from spacy>=2.2.2->medspacy-io==0.1.0.dev34) (8.2.3)\n",
      "Requirement already satisfied: wasabi<1.2.0,>=0.9.1 in c:\\users\\carri\\anaconda3\\envs\\bmi.biobert_env\\lib\\site-packages (from spacy>=2.2.2->medspacy-io==0.1.0.dev34) (1.1.2)\n",
      "Requirement already satisfied: srsly<3.0.0,>=2.4.3 in c:\\users\\carri\\anaconda3\\envs\\bmi.biobert_env\\lib\\site-packages (from spacy>=2.2.2->medspacy-io==0.1.0.dev34) (2.4.8)\n",
      "Requirement already satisfied: catalogue<2.1.0,>=2.0.6 in c:\\users\\carri\\anaconda3\\envs\\bmi.biobert_env\\lib\\site-packages (from spacy>=2.2.2->medspacy-io==0.1.0.dev34) (2.0.10)\n",
      "Requirement already satisfied: weasel<0.4.0,>=0.1.0 in c:\\users\\carri\\anaconda3\\envs\\bmi.biobert_env\\lib\\site-packages (from spacy>=2.2.2->medspacy-io==0.1.0.dev34) (0.3.4)\n",
      "Requirement already satisfied: typer<0.10.0,>=0.3.0 in c:\\users\\carri\\anaconda3\\envs\\bmi.biobert_env\\lib\\site-packages (from spacy>=2.2.2->medspacy-io==0.1.0.dev34) (0.9.4)\n",
      "Requirement already satisfied: smart-open<7.0.0,>=5.2.1 in c:\\users\\carri\\anaconda3\\envs\\bmi.biobert_env\\lib\\site-packages (from spacy>=2.2.2->medspacy-io==0.1.0.dev34) (6.4.0)\n",
      "Requirement already satisfied: tqdm<5.0.0,>=4.38.0 in c:\\users\\carri\\anaconda3\\envs\\bmi.biobert_env\\lib\\site-packages (from spacy>=2.2.2->medspacy-io==0.1.0.dev34) (4.66.1)\n",
      "Requirement already satisfied: requests<3.0.0,>=2.13.0 in c:\\users\\carri\\anaconda3\\envs\\bmi.biobert_env\\lib\\site-packages (from spacy>=2.2.2->medspacy-io==0.1.0.dev34) (2.31.0)\n",
      "Requirement already satisfied: pydantic!=1.8,!=1.8.1,<3.0.0,>=1.7.4 in c:\\users\\carri\\anaconda3\\envs\\bmi.biobert_env\\lib\\site-packages (from spacy>=2.2.2->medspacy-io==0.1.0.dev34) (2.6.4)\n",
      "Requirement already satisfied: jinja2 in c:\\users\\carri\\anaconda3\\envs\\bmi.biobert_env\\lib\\site-packages (from spacy>=2.2.2->medspacy-io==0.1.0.dev34) (3.1.2)\n",
      "Requirement already satisfied: setuptools in c:\\users\\carri\\anaconda3\\envs\\bmi.biobert_env\\lib\\site-packages (from spacy>=2.2.2->medspacy-io==0.1.0.dev34) (68.0.0)\n",
      "Requirement already satisfied: packaging>=20.0 in c:\\users\\carri\\anaconda3\\envs\\bmi.biobert_env\\lib\\site-packages (from spacy>=2.2.2->medspacy-io==0.1.0.dev34) (23.2)\n",
      "Requirement already satisfied: langcodes<4.0.0,>=3.2.0 in c:\\users\\carri\\anaconda3\\envs\\bmi.biobert_env\\lib\\site-packages (from spacy>=2.2.2->medspacy-io==0.1.0.dev34) (3.3.0)\n",
      "Requirement already satisfied: numpy>=1.19.0 in c:\\users\\carri\\anaconda3\\envs\\bmi.biobert_env\\lib\\site-packages (from spacy>=2.2.2->medspacy-io==0.1.0.dev34) (1.26.0)\n",
      "Requirement already satisfied: annotated-types>=0.4.0 in c:\\users\\carri\\anaconda3\\envs\\bmi.biobert_env\\lib\\site-packages (from pydantic!=1.8,!=1.8.1,<3.0.0,>=1.7.4->spacy>=2.2.2->medspacy-io==0.1.0.dev34) (0.6.0)\n",
      "Requirement already satisfied: pydantic-core==2.16.3 in c:\\users\\carri\\anaconda3\\envs\\bmi.biobert_env\\lib\\site-packages (from pydantic!=1.8,!=1.8.1,<3.0.0,>=1.7.4->spacy>=2.2.2->medspacy-io==0.1.0.dev34) (2.16.3)\n",
      "Requirement already satisfied: typing-extensions>=4.6.1 in c:\\users\\carri\\anaconda3\\envs\\bmi.biobert_env\\lib\\site-packages (from pydantic!=1.8,!=1.8.1,<3.0.0,>=1.7.4->spacy>=2.2.2->medspacy-io==0.1.0.dev34) (4.7.1)\n",
      "Requirement already satisfied: charset-normalizer<4,>=2 in c:\\users\\carri\\anaconda3\\envs\\bmi.biobert_env\\lib\\site-packages (from requests<3.0.0,>=2.13.0->spacy>=2.2.2->medspacy-io==0.1.0.dev34) (3.3.2)\n",
      "Requirement already satisfied: idna<4,>=2.5 in c:\\users\\carri\\anaconda3\\envs\\bmi.biobert_env\\lib\\site-packages (from requests<3.0.0,>=2.13.0->spacy>=2.2.2->medspacy-io==0.1.0.dev34) (3.4)\n",
      "Requirement already satisfied: urllib3<3,>=1.21.1 in c:\\users\\carri\\anaconda3\\envs\\bmi.biobert_env\\lib\\site-packages (from requests<3.0.0,>=2.13.0->spacy>=2.2.2->medspacy-io==0.1.0.dev34) (2.0.7)\n",
      "Requirement already satisfied: certifi>=2017.4.17 in c:\\users\\carri\\anaconda3\\envs\\bmi.biobert_env\\lib\\site-packages (from requests<3.0.0,>=2.13.0->spacy>=2.2.2->medspacy-io==0.1.0.dev34) (2023.7.22)\n",
      "Requirement already satisfied: blis<0.8.0,>=0.7.8 in c:\\users\\carri\\anaconda3\\envs\\bmi.biobert_env\\lib\\site-packages (from thinc<8.3.0,>=8.2.2->spacy>=2.2.2->medspacy-io==0.1.0.dev34) (0.7.11)\n",
      "Requirement already satisfied: confection<1.0.0,>=0.0.1 in c:\\users\\carri\\anaconda3\\envs\\bmi.biobert_env\\lib\\site-packages (from thinc<8.3.0,>=8.2.2->spacy>=2.2.2->medspacy-io==0.1.0.dev34) (0.1.4)\n",
      "Requirement already satisfied: colorama in c:\\users\\carri\\anaconda3\\envs\\bmi.biobert_env\\lib\\site-packages (from tqdm<5.0.0,>=4.38.0->spacy>=2.2.2->medspacy-io==0.1.0.dev34) (0.4.6)\n",
      "Requirement already satisfied: click<9.0.0,>=7.1.1 in c:\\users\\carri\\anaconda3\\envs\\bmi.biobert_env\\lib\\site-packages (from typer<0.10.0,>=0.3.0->spacy>=2.2.2->medspacy-io==0.1.0.dev34) (8.1.7)\n",
      "Requirement already satisfied: cloudpathlib<0.17.0,>=0.7.0 in c:\\users\\carri\\anaconda3\\envs\\bmi.biobert_env\\lib\\site-packages (from weasel<0.4.0,>=0.1.0->spacy>=2.2.2->medspacy-io==0.1.0.dev34) (0.16.0)\n",
      "Requirement already satisfied: MarkupSafe>=2.0 in c:\\users\\carri\\anaconda3\\envs\\bmi.biobert_env\\lib\\site-packages (from jinja2->spacy>=2.2.2->medspacy-io==0.1.0.dev34) (2.1.1)\n",
      "Note: you may need to restart the kernel to use updated packages.\n"
     ]
    },
    {
     "name": "stderr",
     "output_type": "stream",
     "text": [
      "  Running command git clone --filter=blob:none --quiet https://github.com/medspacy/medspacy_io 'C:\\Users\\carri\\AppData\\Local\\Temp\\pip-req-build-zyqgneq4'\n"
     ]
    }
   ],
   "source": [
    "pip install git+https://github.com/medspacy/medspacy_io"
   ]
  },
  {
   "cell_type": "code",
   "execution_count": 9,
   "metadata": {},
   "outputs": [],
   "source": [
    "from spacy.lang.en import English\n",
    "from medspacy_io.reader import BratDocReader\n",
    "from medspacy_io.reader import BratDirReader\n",
    "import spacy\n",
    "from pathlib import Path\n",
    "from medspacy_io.vectorizer import Vectorizer\n",
    "from sklearn.feature_extraction.text import CountVectorizer\n",
    "from sklearn.metrics import classification_report\n",
    "import pandas as pd\n",
    "pd.set_option('display.max_colwidth', None)"
   ]
  },
  {
   "cell_type": "code",
   "execution_count": 10,
   "metadata": {},
   "outputs": [
    {
     "data": {
      "text/plain": [
       "67"
      ]
     },
     "execution_count": 10,
     "metadata": {},
     "output_type": "execute_result"
    }
   ],
   "source": [
    "# The dataset files does not include schema configuration, let's create one\n",
    "concepts=['EVIDENCE_OF_PNEUMONIA', 'PNEUMONIA_DOC_NO', 'PNEUMONIA_DOC_YES']\n",
    "lines=['[entities]']+concepts\n",
    "Path('annotation.conf').write_text('\\n'.join(lines))"
   ]
  },
  {
   "cell_type": "code",
   "execution_count": 11,
   "metadata": {},
   "outputs": [],
   "source": [
    "#!python -m spacy download en_core_web_sm"
   ]
  },
  {
   "cell_type": "code",
   "execution_count": 12,
   "metadata": {},
   "outputs": [
    {
     "name": "stdout",
     "output_type": "stream",
     "text": [
      "found annotation.conf file\n"
     ]
    }
   ],
   "source": [
    "# set up the Brat reader\n",
    "nlp=spacy.load(\"en_core_web_sm\", disable=['ner'])\n",
    "dir_reader = BratDirReader(nlp=nlp, support_overlap=True, recursive=True, schema_file='annotation.conf')"
   ]
  },
  {
   "cell_type": "code",
   "execution_count": 13,
   "metadata": {},
   "outputs": [],
   "source": [
    "# This function will read brat annotation files and convert the snippet annotation into sentence labelled dataframe\n",
    "def convert2df(data_folder):\n",
    "  # read brat annotation into spaCy doc object.\n",
    "  docs = dir_reader.read(txt_dir=data_folder)\n",
    "  # convert snippet label into sentence-level labels and generate pandas dataframe\n",
    "  df = Vectorizer.docs_to_sents_df(docs, track_doc_name=True, sent_window=2)\n",
    "  # remove document-level labels\n",
    "  df=df[~df['y'].str.contains('_DOC_')]\n",
    "  return df[['X','y']]"
   ]
  },
  {
   "cell_type": "code",
   "execution_count": 14,
   "metadata": {},
   "outputs": [],
   "source": [
    "train_df=convert2df('training_v2')\n",
    "test_df=convert2df('test_v2')"
   ]
  },
  {
   "cell_type": "code",
   "execution_count": 15,
   "metadata": {},
   "outputs": [],
   "source": [
    "def to_attr_classify(df:pd.DataFrame):\n",
    "    keywords = ['opacity', 'infiltrate', 'pneumonia', 'effusion', 'consolidation']\n",
    "\n",
    "    # Function to find offsets of keywords in sentences\n",
    "    def find_offsets(sentence, keywords):\n",
    "        offsets = []\n",
    "        for keyword in keywords:\n",
    "            start = sentence.find(keyword)\n",
    "            if start != -1:\n",
    "                end = start + len(keyword)\n",
    "                offsets.append((keyword, start, end))\n",
    "        return offsets\n",
    "\n",
    "    # Apply the function and expand the list of offsets into a new dataframe\n",
    "    rows = []\n",
    "    for i, row in train_df.iterrows():\n",
    "        offsets = find_offsets(row['X'].lower(), keywords)\n",
    "        for keyword, start, end in offsets:\n",
    "            rows.append({'X': row['X'], 'Keyword': keyword, 'Start': start, 'End': end, 'y':row['y']})\n",
    "\n",
    "    # Creating a new dataframe from the rows with keywords found\n",
    "    filtered_df = pd.DataFrame(rows)\n",
    "    filtered_df['y']=filtered_df['y'].map(lambda x: 'NotAffirmed' if x == 'NEG' else 'Affirmed')\n",
    "    return filtered_df"
   ]
  },
  {
   "cell_type": "code",
   "execution_count": 16,
   "metadata": {},
   "outputs": [],
   "source": [
    "train_adf=to_attr_classify(train_df)"
   ]
  },
  {
   "cell_type": "code",
   "execution_count": 17,
   "metadata": {},
   "outputs": [],
   "source": [
    "### Function defined with train_df file, so changed test_df to point to the same data set \n",
    "def to_attr_classify(df:pd.DataFrame):\n",
    "    keywords = ['opacity', 'infiltrate', 'pneumonia', 'effusion', 'consolidation']\n",
    "\n",
    "    # Function to find offsets of keywords in sentences\n",
    "    def find_offsets(sentence, keywords):\n",
    "        offsets = []\n",
    "        for keyword in keywords:\n",
    "            start = sentence.find(keyword)\n",
    "            if start != -1:\n",
    "                end = start + len(keyword)\n",
    "                offsets.append((keyword, start, end))\n",
    "        return offsets\n",
    "\n",
    "    # Apply the function and expand the list of offsets into a new dataframe\n",
    "    rows = []\n",
    "    for i, row in test_df.iterrows():\n",
    "        offsets = find_offsets(row['X'].lower(), keywords)\n",
    "        for keyword, start, end in offsets:\n",
    "            rows.append({'X': row['X'], 'Keyword': keyword, 'Start': start, 'End': end, 'y':row['y']})\n",
    "\n",
    "    # Creating a new dataframe from the rows with keywords found\n",
    "    filtered_df = pd.DataFrame(rows)\n",
    "    filtered_df['y']=filtered_df['y'].map(lambda x: 'NotAffirmed' if x == 'NEG' else 'Affirmed')\n",
    "    return filtered_df"
   ]
  },
  {
   "cell_type": "code",
   "execution_count": 18,
   "metadata": {},
   "outputs": [],
   "source": [
    "test_adf=to_attr_classify(test_df)"
   ]
  },
  {
   "cell_type": "code",
   "execution_count": 19,
   "metadata": {},
   "outputs": [],
   "source": [
    "from transformers import AutoTokenizer\n",
    "tokenizer = AutoTokenizer.from_pretrained(\"distilbert-base-uncased\")\n",
    "from datasets import Dataset"
   ]
  },
  {
   "cell_type": "code",
   "execution_count": 20,
   "metadata": {},
   "outputs": [],
   "source": [
    "train_adf_dataset = Dataset.from_pandas(train_adf)\n",
    "test_adf_dataset = Dataset.from_pandas(test_adf)"
   ]
  },
  {
   "cell_type": "code",
   "execution_count": 21,
   "metadata": {},
   "outputs": [
    {
     "data": {
      "application/vnd.jupyter.widget-view+json": {
       "model_id": "1de780d04aa7475292994886464e0d27",
       "version_major": 2,
       "version_minor": 0
      },
      "text/plain": [
       "Map:   0%|          | 0/407 [00:00<?, ? examples/s]"
      ]
     },
     "metadata": {},
     "output_type": "display_data"
    }
   ],
   "source": [
    "### Add a column with Not/Affirmed labels\n",
    "train_adf_dataset = train_adf_dataset.map(lambda example: {'labels': 1 if example['y'] == 'Affirmed' else 0})"
   ]
  },
  {
   "cell_type": "code",
   "execution_count": 22,
   "metadata": {},
   "outputs": [
    {
     "data": {
      "application/vnd.jupyter.widget-view+json": {
       "model_id": "b3f9ba2ca15342fda82938044a45fd5a",
       "version_major": 2,
       "version_minor": 0
      },
      "text/plain": [
       "Map:   0%|          | 0/424 [00:00<?, ? examples/s]"
      ]
     },
     "metadata": {},
     "output_type": "display_data"
    }
   ],
   "source": [
    "test_adf_dataset = test_adf_dataset.map(lambda example: {'labels': 1 if example['y'] == 'Affirmed' else 0})"
   ]
  },
  {
   "cell_type": "code",
   "execution_count": 24,
   "metadata": {},
   "outputs": [],
   "source": [
    "def preprocess_function(examples):\n",
    "    return tokenizer(examples[\"X\"], truncation=True)"
   ]
  },
  {
   "cell_type": "code",
   "execution_count": 25,
   "metadata": {},
   "outputs": [
    {
     "data": {
      "application/vnd.jupyter.widget-view+json": {
       "model_id": "dfa01a307387476caef5c3611d889c69",
       "version_major": 2,
       "version_minor": 0
      },
      "text/plain": [
       "Map:   0%|          | 0/407 [00:00<?, ? examples/s]"
      ]
     },
     "metadata": {},
     "output_type": "display_data"
    }
   ],
   "source": [
    "train_adf_tok = train_adf_dataset.map(preprocess_function, batched=True)"
   ]
  },
  {
   "cell_type": "code",
   "execution_count": 26,
   "metadata": {},
   "outputs": [
    {
     "data": {
      "application/vnd.jupyter.widget-view+json": {
       "model_id": "eaed4602d7e141f194125ae95aec1bff",
       "version_major": 2,
       "version_minor": 0
      },
      "text/plain": [
       "Map:   0%|          | 0/424 [00:00<?, ? examples/s]"
      ]
     },
     "metadata": {},
     "output_type": "display_data"
    }
   ],
   "source": [
    "test_adf_tok = test_adf_dataset.map(preprocess_function, batched=True)"
   ]
  },
  {
   "cell_type": "code",
   "execution_count": 27,
   "metadata": {},
   "outputs": [
    {
     "name": "stderr",
     "output_type": "stream",
     "text": [
      "2024-03-24 22:39:53,529 tensorflow   WARNING  From c:\\Users\\carri\\anaconda3\\envs\\bmi.biobert_env\\Lib\\site-packages\\keras\\src\\losses.py:2976: The name tf.losses.sparse_softmax_cross_entropy is deprecated. Please use tf.compat.v1.losses.sparse_softmax_cross_entropy instead.\n",
      "\n"
     ]
    }
   ],
   "source": [
    "import tensorflow as tf"
   ]
  },
  {
   "cell_type": "code",
   "execution_count": 28,
   "metadata": {},
   "outputs": [],
   "source": [
    "from transformers import DataCollatorWithPadding\n",
    "data_collator = DataCollatorWithPadding(tokenizer=tokenizer, return_tensors=\"tf\")"
   ]
  },
  {
   "cell_type": "code",
   "execution_count": 29,
   "metadata": {},
   "outputs": [],
   "source": [
    "id2label = {0: \"NotAffirmed\", 1: \"Affirmed\"}\n",
    "label2id = {\"NotAffirmed\": 0, \"Affirmed\": 1}"
   ]
  },
  {
   "cell_type": "code",
   "execution_count": 30,
   "metadata": {},
   "outputs": [],
   "source": [
    "from transformers import create_optimizer\n",
    "from transformers import TFAutoModelForSequenceClassification"
   ]
  },
  {
   "cell_type": "code",
   "execution_count": 31,
   "metadata": {},
   "outputs": [],
   "source": [
    "batch_size = 16\n",
    "num_epochs = 3\n",
    "batches_per_epoch = len(train_adf_tok) // batch_size\n",
    "total_train_steps = int(batches_per_epoch * num_epochs)\n",
    "optimizer, schedule = create_optimizer(init_lr=2e-5, num_warmup_steps=0, num_train_steps=total_train_steps)"
   ]
  },
  {
   "cell_type": "code",
   "execution_count": 32,
   "metadata": {},
   "outputs": [
    {
     "name": "stderr",
     "output_type": "stream",
     "text": [
      "2024-03-24 22:40:24,553 tensorflow   WARNING  From c:\\Users\\carri\\anaconda3\\envs\\bmi.biobert_env\\Lib\\site-packages\\keras\\src\\backend.py:873: The name tf.get_default_graph is deprecated. Please use tf.compat.v1.get_default_graph instead.\n",
      "\n",
      "Some weights of the PyTorch model were not used when initializing the TF 2.0 model TFDistilBertForSequenceClassification: ['vocab_layer_norm.bias', 'vocab_layer_norm.weight', 'vocab_transform.weight', 'vocab_transform.bias', 'vocab_projector.bias']\n",
      "- This IS expected if you are initializing TFDistilBertForSequenceClassification from a PyTorch model trained on another task or with another architecture (e.g. initializing a TFBertForSequenceClassification model from a BertForPreTraining model).\n",
      "- This IS NOT expected if you are initializing TFDistilBertForSequenceClassification from a PyTorch model that you expect to be exactly identical (e.g. initializing a TFBertForSequenceClassification model from a BertForSequenceClassification model).\n",
      "Some weights or buffers of the TF 2.0 model TFDistilBertForSequenceClassification were not initialized from the PyTorch model and are newly initialized: ['pre_classifier.weight', 'pre_classifier.bias', 'classifier.weight', 'classifier.bias']\n",
      "You should probably TRAIN this model on a down-stream task to be able to use it for predictions and inference.\n"
     ]
    }
   ],
   "source": [
    "model = TFAutoModelForSequenceClassification.from_pretrained(\n",
    "    \"distilbert-base-uncased\", num_labels=2, id2label=id2label, label2id=label2id\n",
    ")"
   ]
  },
  {
   "cell_type": "code",
   "execution_count": 33,
   "metadata": {},
   "outputs": [],
   "source": [
    "tf_train_set = model.prepare_tf_dataset(\n",
    "    train_adf_tok,\n",
    "    shuffle=True,\n",
    "    batch_size=batch_size,\n",
    "    collate_fn=data_collator,\n",
    ")"
   ]
  },
  {
   "cell_type": "code",
   "execution_count": 34,
   "metadata": {},
   "outputs": [],
   "source": [
    "tf_validation_set = model.prepare_tf_dataset(\n",
    "    test_adf_tok,\n",
    "    shuffle=False,\n",
    "    batch_size=batch_size,\n",
    "    collate_fn=data_collator,\n",
    ")"
   ]
  },
  {
   "cell_type": "code",
   "execution_count": 35,
   "metadata": {},
   "outputs": [],
   "source": [
    "model.compile(optimizer=optimizer)  "
   ]
  },
  {
   "cell_type": "code",
   "execution_count": 36,
   "metadata": {},
   "outputs": [
    {
     "name": "stdout",
     "output_type": "stream",
     "text": [
      "Epoch 1/3\n"
     ]
    },
    {
     "name": "stderr",
     "output_type": "stream",
     "text": [
      "2024-03-24 22:40:44,223 tensorflow   WARNING  From c:\\Users\\carri\\anaconda3\\envs\\bmi.biobert_env\\Lib\\site-packages\\keras\\src\\utils\\tf_utils.py:492: The name tf.ragged.RaggedTensorValue is deprecated. Please use tf.compat.v1.ragged.RaggedTensorValue instead.\n",
      "\n"
     ]
    },
    {
     "name": "stdout",
     "output_type": "stream",
     "text": [
      "25/25 [==============================] - 175s 6s/step - loss: 0.5825 - val_loss: 0.5083\n",
      "Epoch 2/3\n",
      "25/25 [==============================] - 146s 6s/step - loss: 0.3621 - val_loss: 0.3468\n",
      "Epoch 3/3\n",
      "25/25 [==============================] - 134s 5s/step - loss: 0.2525 - val_loss: 0.3018\n"
     ]
    },
    {
     "data": {
      "text/plain": [
       "<keras.src.callbacks.History at 0x22044025590>"
      ]
     },
     "execution_count": 36,
     "metadata": {},
     "output_type": "execute_result"
    }
   ],
   "source": [
    "model.fit(x=tf_train_set, validation_data=tf_validation_set, epochs=num_epochs)"
   ]
  },
  {
   "cell_type": "code",
   "execution_count": 37,
   "metadata": {},
   "outputs": [
    {
     "name": "stdout",
     "output_type": "stream",
     "text": [
      "27/27 [==============================] - 31s 996ms/step\n",
      "              precision    recall  f1-score   support\n",
      "\n",
      " NotAffirmed       0.93      0.90      0.91       220\n",
      "    Affirmed       0.90      0.92      0.91       204\n",
      "\n",
      "    accuracy                           0.91       424\n",
      "   macro avg       0.91      0.91      0.91       424\n",
      "weighted avg       0.91      0.91      0.91       424\n",
      "\n"
     ]
    }
   ],
   "source": [
    "from sklearn.metrics import classification_report\n",
    "y_pred = model.predict(tf_validation_set).logits.argmax(axis=-1)\n",
    "y_true = [example['labels'] for example in test_adf_tok]\n",
    "report = classification_report(y_true, y_pred, target_names=['NotAffirmed', 'Affirmed'])\n",
    "\n",
    "print(report)"
   ]
  }
 ],
 "metadata": {
  "kernelspec": {
   "display_name": "bmi.biobert",
   "language": "python",
   "name": "bmi.biobert_env"
  },
  "language_info": {
   "codemirror_mode": {
    "name": "ipython",
    "version": 3
   },
   "file_extension": ".py",
   "mimetype": "text/x-python",
   "name": "python",
   "nbconvert_exporter": "python",
   "pygments_lexer": "ipython3",
   "version": "3.11.5"
  }
 },
 "nbformat": 4,
 "nbformat_minor": 2
}
